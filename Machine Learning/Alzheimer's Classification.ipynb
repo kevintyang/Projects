{
 "cells": [
  {
   "cell_type": "markdown",
   "metadata": {},
   "source": [
    "# Constructing Alzheimer's Detector "
   ]
  },
  {
   "cell_type": "markdown",
   "metadata": {},
   "source": [
    "[A. Data Set Information](#A.-Data-Set-Information)\n",
    "\n",
    "[1. Imported Packages and Data](#1.-Imported-Packages-and-Data)\n",
    "\n",
    "[2. Exploratory Data Analysis](#2.-Exploratory-Data-Analysis)\n",
    "\n",
    "[3. Data Cleaning](#3.-Data-Cleaning)\n",
    "\n",
    "[4. Model Construction](#4.-Model-Construction)\n",
    "\n",
    "[5. Hyperparameter Tuning](#5.-Hyperparameter-Tuning)\n",
    "\n",
    "[6. Discussion](#6.-Discussion)"
   ]
  },
  {
   "cell_type": "markdown",
   "metadata": {},
   "source": [
    "# A. Data Set Information"
   ]
  },
  {
   "cell_type": "markdown",
   "metadata": {},
   "source": [
    "#### A.1 Summary"
   ]
  },
  {
   "cell_type": "markdown",
   "metadata": {},
   "source": [
    "<b>Summary:</b>\n",
    "This set consists of a longitudinal collection of 150 subjects aged 60 to 96. Each subject was scanned on two or more visits, separated by at least one year for a total of 373 imaging sessions. For each subject, 3 or 4 individual T1-weighted MRI scans obtained in single scan sessions are included. The subjects are all right-handed and include both men and women. 72 of the subjects were characterized as nondemented throughout the study. 64 of the included subjects were characterized as demented at the time of their initial visits and remained so for subsequent scans, including 51 individuals with mild to moderate Alzheimer’s disease. Another 14 subjects were characterized as nondemented at the time of their initial visit and were subsequently characterized as demented at a later visit."
   ]
  },
  {
   "cell_type": "markdown",
   "metadata": {},
   "source": [
    "#### A.2 Column Descriptions"
   ]
  },
  {
   "cell_type": "markdown",
   "metadata": {},
   "source": [
    "<pre>\n",
    "- <b>Subject ID:</b> unique code assigned to each subject in the study\n",
    "- <b>MRI ID:</b> unique code assigned to each MRI scan\n",
    "- <b>Group:</b> subject classified under one of the three of the following\n",
    "    - Nondemented\n",
    "    - Demented \n",
    "    - Converted: intially grouped \"Nondemented\" and later \"Demented\"\n",
    "- <b>Visit:</b> Visit number for patient\n",
    "\n",
    "Demographics \n",
    "- <b>M/F:</b> patient gender\n",
    "- <b>Hand:</b> handedness (all patients were right-handed)\n",
    "- <b>Age:</b> age of patient in years\n",
    "- <b>EDUC:</b> years of education\n",
    "- <b>SES:</b> Socioeconomic status measured 1 (highest) to 5 (lowest)\n",
    "\n",
    "Clinical Data\n",
    "- <b>MMSE:</b> Mini Mental State Examination score\n",
    "    - Scores range from 0 (worst) to 30 (best)\n",
    "    - Scoring 30 doesn't completely rule out dementia\n",
    "    - 24-30 = normal\n",
    "    - 19-23 = mild\n",
    "    - 10-18 = moderate\n",
    "    - 0-9 = severe\n",
    "- <b>CDR:</b> Clinical Dementia Rating\n",
    "    - 0 = no dementia\n",
    "    - 0.5 = very mild dementia\n",
    "    - 1 = mild dementia\n",
    "    - 2 = moderate dementia\n",
    "    - 3 = severe dementia\n",
    "- <b>eTIV:</b> estimated total intercranial volume\n",
    "    - measured in mm^3\n",
    "- <b>nWBV:</b> normalized whole-brain volume\n",
    "- <b>ASF:</b> atlas scaling factor\n",
    "    - Volume-scaling factor to match subject to atlas target\n",
    "    - Used to correct for head size variation\n",
    "    \n",
    "</pre>"
   ]
  },
  {
   "cell_type": "markdown",
   "metadata": {},
   "source": [
    "## 1. Imported Packages and Data"
   ]
  },
  {
   "cell_type": "markdown",
   "metadata": {},
   "source": [
    "#### 1.1 Packages"
   ]
  },
  {
   "cell_type": "code",
   "execution_count": 2,
   "metadata": {},
   "outputs": [],
   "source": [
    "import pandas as pd\n",
    "import numpy as np\n",
    "import matplotlib.pyplot as plt\n",
    "import seaborn as sns\n",
    "sns.set_palette(\"colorblind\")\n",
    "\n",
    "from sklearn.impute import SimpleImputer,KNNImputer\n",
    "\n",
    "import warnings\n",
    "warnings.filterwarnings('ignore')"
   ]
  },
  {
   "cell_type": "markdown",
   "metadata": {},
   "source": [
    "#### 1.2 Parkinson's data set\n",
    "\n",
    "## DEVELOP HYPOTHESIS FOR WHICH CLASSIFIER"
   ]
  },
  {
   "cell_type": "code",
   "execution_count": 3,
   "metadata": {},
   "outputs": [
    {
     "name": "stdout",
     "output_type": "stream",
     "text": [
      "Nondemented    190\n",
      "Demented       146\n",
      "Converted       37\n",
      "Name: Group, dtype: int64\n"
     ]
    }
   ],
   "source": [
    "### MERGE CONVERTED GROUP TO DEMENTED GROUP (result in binary class)\n",
    "\n",
    "dem_df = pd.read_csv(\"oasis_longitudinal.csv\")\n",
    "dem_df.head()\n",
    "\n",
    "print(dem_df[\"Group\"].value_counts())"
   ]
  },
  {
   "cell_type": "markdown",
   "metadata": {},
   "source": [
    "## 2. Exploratory Data Analysis\n",
    "\n",
    "## DESCRIPTIVE STATS FOR EACH GROUP (NONDEMENTED,DEMENTED)"
   ]
  },
  {
   "cell_type": "code",
   "execution_count": 3,
   "metadata": {
    "scrolled": false
   },
   "outputs": [
    {
     "data": {
      "text/plain": [
       "(373, 15)"
      ]
     },
     "execution_count": 3,
     "metadata": {},
     "output_type": "execute_result"
    }
   ],
   "source": [
    "dem_df.shape"
   ]
  },
  {
   "cell_type": "code",
   "execution_count": 4,
   "metadata": {
    "scrolled": true
   },
   "outputs": [
    {
     "name": "stdout",
     "output_type": "stream",
     "text": [
      "<class 'pandas.core.frame.DataFrame'>\n",
      "RangeIndex: 373 entries, 0 to 372\n",
      "Data columns (total 15 columns):\n",
      " #   Column      Non-Null Count  Dtype  \n",
      "---  ------      --------------  -----  \n",
      " 0   Subject ID  373 non-null    object \n",
      " 1   MRI ID      373 non-null    object \n",
      " 2   Group       373 non-null    object \n",
      " 3   Visit       373 non-null    int64  \n",
      " 4   MR Delay    373 non-null    int64  \n",
      " 5   M/F         373 non-null    object \n",
      " 6   Hand        373 non-null    object \n",
      " 7   Age         373 non-null    int64  \n",
      " 8   EDUC        373 non-null    int64  \n",
      " 9   SES         354 non-null    float64\n",
      " 10  MMSE        371 non-null    float64\n",
      " 11  CDR         373 non-null    float64\n",
      " 12  eTIV        373 non-null    int64  \n",
      " 13  nWBV        373 non-null    float64\n",
      " 14  ASF         373 non-null    float64\n",
      "dtypes: float64(5), int64(5), object(5)\n",
      "memory usage: 43.8+ KB\n"
     ]
    }
   ],
   "source": [
    "dem_df.info()"
   ]
  },
  {
   "cell_type": "code",
   "execution_count": 5,
   "metadata": {
    "scrolled": true
   },
   "outputs": [
    {
     "data": {
      "text/html": [
       "<div>\n",
       "<style scoped>\n",
       "    .dataframe tbody tr th:only-of-type {\n",
       "        vertical-align: middle;\n",
       "    }\n",
       "\n",
       "    .dataframe tbody tr th {\n",
       "        vertical-align: top;\n",
       "    }\n",
       "\n",
       "    .dataframe thead th {\n",
       "        text-align: right;\n",
       "    }\n",
       "</style>\n",
       "<table border=\"1\" class=\"dataframe\">\n",
       "  <thead>\n",
       "    <tr style=\"text-align: right;\">\n",
       "      <th></th>\n",
       "      <th>count</th>\n",
       "      <th>mean</th>\n",
       "      <th>std</th>\n",
       "      <th>min</th>\n",
       "      <th>25%</th>\n",
       "      <th>50%</th>\n",
       "      <th>75%</th>\n",
       "      <th>max</th>\n",
       "    </tr>\n",
       "  </thead>\n",
       "  <tbody>\n",
       "    <tr>\n",
       "      <th>Visit</th>\n",
       "      <td>373.0</td>\n",
       "      <td>1.882038</td>\n",
       "      <td>0.922843</td>\n",
       "      <td>1.000</td>\n",
       "      <td>1.000</td>\n",
       "      <td>2.000</td>\n",
       "      <td>2.000</td>\n",
       "      <td>5.000</td>\n",
       "    </tr>\n",
       "    <tr>\n",
       "      <th>MR Delay</th>\n",
       "      <td>373.0</td>\n",
       "      <td>595.104558</td>\n",
       "      <td>635.485118</td>\n",
       "      <td>0.000</td>\n",
       "      <td>0.000</td>\n",
       "      <td>552.000</td>\n",
       "      <td>873.000</td>\n",
       "      <td>2639.000</td>\n",
       "    </tr>\n",
       "    <tr>\n",
       "      <th>Age</th>\n",
       "      <td>373.0</td>\n",
       "      <td>77.013405</td>\n",
       "      <td>7.640957</td>\n",
       "      <td>60.000</td>\n",
       "      <td>71.000</td>\n",
       "      <td>77.000</td>\n",
       "      <td>82.000</td>\n",
       "      <td>98.000</td>\n",
       "    </tr>\n",
       "    <tr>\n",
       "      <th>EDUC</th>\n",
       "      <td>373.0</td>\n",
       "      <td>14.597855</td>\n",
       "      <td>2.876339</td>\n",
       "      <td>6.000</td>\n",
       "      <td>12.000</td>\n",
       "      <td>15.000</td>\n",
       "      <td>16.000</td>\n",
       "      <td>23.000</td>\n",
       "    </tr>\n",
       "    <tr>\n",
       "      <th>SES</th>\n",
       "      <td>354.0</td>\n",
       "      <td>2.460452</td>\n",
       "      <td>1.134005</td>\n",
       "      <td>1.000</td>\n",
       "      <td>2.000</td>\n",
       "      <td>2.000</td>\n",
       "      <td>3.000</td>\n",
       "      <td>5.000</td>\n",
       "    </tr>\n",
       "    <tr>\n",
       "      <th>MMSE</th>\n",
       "      <td>371.0</td>\n",
       "      <td>27.342318</td>\n",
       "      <td>3.683244</td>\n",
       "      <td>4.000</td>\n",
       "      <td>27.000</td>\n",
       "      <td>29.000</td>\n",
       "      <td>30.000</td>\n",
       "      <td>30.000</td>\n",
       "    </tr>\n",
       "    <tr>\n",
       "      <th>CDR</th>\n",
       "      <td>373.0</td>\n",
       "      <td>0.290885</td>\n",
       "      <td>0.374557</td>\n",
       "      <td>0.000</td>\n",
       "      <td>0.000</td>\n",
       "      <td>0.000</td>\n",
       "      <td>0.500</td>\n",
       "      <td>2.000</td>\n",
       "    </tr>\n",
       "    <tr>\n",
       "      <th>eTIV</th>\n",
       "      <td>373.0</td>\n",
       "      <td>1488.128686</td>\n",
       "      <td>176.139286</td>\n",
       "      <td>1106.000</td>\n",
       "      <td>1357.000</td>\n",
       "      <td>1470.000</td>\n",
       "      <td>1597.000</td>\n",
       "      <td>2004.000</td>\n",
       "    </tr>\n",
       "    <tr>\n",
       "      <th>nWBV</th>\n",
       "      <td>373.0</td>\n",
       "      <td>0.729568</td>\n",
       "      <td>0.037135</td>\n",
       "      <td>0.644</td>\n",
       "      <td>0.700</td>\n",
       "      <td>0.729</td>\n",
       "      <td>0.756</td>\n",
       "      <td>0.837</td>\n",
       "    </tr>\n",
       "    <tr>\n",
       "      <th>ASF</th>\n",
       "      <td>373.0</td>\n",
       "      <td>1.195461</td>\n",
       "      <td>0.138092</td>\n",
       "      <td>0.876</td>\n",
       "      <td>1.099</td>\n",
       "      <td>1.194</td>\n",
       "      <td>1.293</td>\n",
       "      <td>1.587</td>\n",
       "    </tr>\n",
       "  </tbody>\n",
       "</table>\n",
       "</div>"
      ],
      "text/plain": [
       "          count         mean         std       min       25%       50%  \\\n",
       "Visit     373.0     1.882038    0.922843     1.000     1.000     2.000   \n",
       "MR Delay  373.0   595.104558  635.485118     0.000     0.000   552.000   \n",
       "Age       373.0    77.013405    7.640957    60.000    71.000    77.000   \n",
       "EDUC      373.0    14.597855    2.876339     6.000    12.000    15.000   \n",
       "SES       354.0     2.460452    1.134005     1.000     2.000     2.000   \n",
       "MMSE      371.0    27.342318    3.683244     4.000    27.000    29.000   \n",
       "CDR       373.0     0.290885    0.374557     0.000     0.000     0.000   \n",
       "eTIV      373.0  1488.128686  176.139286  1106.000  1357.000  1470.000   \n",
       "nWBV      373.0     0.729568    0.037135     0.644     0.700     0.729   \n",
       "ASF       373.0     1.195461    0.138092     0.876     1.099     1.194   \n",
       "\n",
       "               75%       max  \n",
       "Visit        2.000     5.000  \n",
       "MR Delay   873.000  2639.000  \n",
       "Age         82.000    98.000  \n",
       "EDUC        16.000    23.000  \n",
       "SES          3.000     5.000  \n",
       "MMSE        30.000    30.000  \n",
       "CDR          0.500     2.000  \n",
       "eTIV      1597.000  2004.000  \n",
       "nWBV         0.756     0.837  \n",
       "ASF          1.293     1.587  "
      ]
     },
     "execution_count": 5,
     "metadata": {},
     "output_type": "execute_result"
    }
   ],
   "source": [
    "dem_df.describe().T"
   ]
  },
  {
   "cell_type": "code",
   "execution_count": 6,
   "metadata": {},
   "outputs": [
    {
     "data": {
      "text/plain": [
       "<AxesSubplot:>"
      ]
     },
     "execution_count": 6,
     "metadata": {},
     "output_type": "execute_result"
    },
    {
     "data": {
      "image/png": "[encoded data removed]",
      "text/plain": [
       "<Figure size 1440x1440 with 2 Axes>"
      ]
     },
     "metadata": {},
     "output_type": "display_data"
    }
   ],
   "source": [
    "matrix = np.triu(dem_df.corr())\n",
    "sns.set(rc = {'figure.figsize':(20,20)})\n",
    "sns.heatmap(dem_df.corr(),annot=True,vmin=-1,vmax=1,center=0,linewidths=2,mask=matrix)"
   ]
  },
  {
   "cell_type": "code",
   "execution_count": 7,
   "metadata": {},
   "outputs": [
    {
     "data": {
      "text/plain": [
       "array([[<AxesSubplot:title={'center':'Visit'}>,\n",
       "        <AxesSubplot:title={'center':'MR Delay'}>,\n",
       "        <AxesSubplot:title={'center':'Age'}>],\n",
       "       [<AxesSubplot:title={'center':'EDUC'}>,\n",
       "        <AxesSubplot:title={'center':'SES'}>,\n",
       "        <AxesSubplot:title={'center':'MMSE'}>],\n",
       "       [<AxesSubplot:title={'center':'CDR'}>,\n",
       "        <AxesSubplot:title={'center':'eTIV'}>,\n",
       "        <AxesSubplot:title={'center':'nWBV'}>],\n",
       "       [<AxesSubplot:title={'center':'ASF'}>, <AxesSubplot:>,\n",
       "        <AxesSubplot:>]], dtype=object)"
      ]
     },
     "execution_count": 7,
     "metadata": {},
     "output_type": "execute_result"
    },
    {
     "data": {
      "image/png": "[encoded data removed]",
      "text/plain": [
       "<Figure size 1800x1800 with 12 Axes>"
      ]
     },
     "metadata": {},
     "output_type": "display_data"
    }
   ],
   "source": [
    "dem_df.hist(figsize=(25,25))"
   ]
  },
  {
   "cell_type": "markdown",
   "metadata": {},
   "source": [
    "## 3. Data Cleaning"
   ]
  },
  {
   "cell_type": "code",
   "execution_count": 8,
   "metadata": {},
   "outputs": [
    {
     "name": "stdout",
     "output_type": "stream",
     "text": [
      "Hand\n",
      "R       373\n",
      "dtype: int64\n"
     ]
    },
    {
     "data": {
      "text/plain": [
       "Index(['Subject ID', 'MRI ID', 'Group', 'Visit', 'MR Delay', 'M/F', 'Age',\n",
       "       'EDUC', 'SES', 'MMSE', 'CDR', 'eTIV', 'nWBV', 'ASF'],\n",
       "      dtype='object')"
      ]
     },
     "execution_count": 8,
     "metadata": {},
     "output_type": "execute_result"
    }
   ],
   "source": [
    "#Entire dataset is right-handed so I will drop this row\n",
    "print(dem_df[[\"Hand\"]].value_counts())\n",
    "dem_df = dem_df.drop(\"Hand\",axis=1)\n",
    "dem_df.columns"
   ]
  },
  {
   "cell_type": "code",
   "execution_count": 9,
   "metadata": {},
   "outputs": [
    {
     "data": {
      "text/plain": [
       "False"
      ]
     },
     "execution_count": 9,
     "metadata": {},
     "output_type": "execute_result"
    }
   ],
   "source": [
    "dem_df.duplicated().any()"
   ]
  },
  {
   "cell_type": "code",
   "execution_count": 10,
   "metadata": {},
   "outputs": [
    {
     "data": {
      "text/plain": [
       "Subject ID     0\n",
       "MRI ID         0\n",
       "Group          0\n",
       "Visit          0\n",
       "MR Delay       0\n",
       "M/F            0\n",
       "Age            0\n",
       "EDUC           0\n",
       "SES           19\n",
       "MMSE           2\n",
       "CDR            0\n",
       "eTIV           0\n",
       "nWBV           0\n",
       "ASF            0\n",
       "dtype: int64"
      ]
     },
     "execution_count": 10,
     "metadata": {},
     "output_type": "execute_result"
    }
   ],
   "source": [
    "dem_df.isna().sum()"
   ]
  },
  {
   "cell_type": "code",
   "execution_count": 11,
   "metadata": {
    "scrolled": true
   },
   "outputs": [
    {
     "data": {
      "text/html": [
       "<div>\n",
       "<style scoped>\n",
       "    .dataframe tbody tr th:only-of-type {\n",
       "        vertical-align: middle;\n",
       "    }\n",
       "\n",
       "    .dataframe tbody tr th {\n",
       "        vertical-align: top;\n",
       "    }\n",
       "\n",
       "    .dataframe thead th {\n",
       "        text-align: right;\n",
       "    }\n",
       "</style>\n",
       "<table border=\"1\" class=\"dataframe\">\n",
       "  <thead>\n",
       "    <tr style=\"text-align: right;\">\n",
       "      <th></th>\n",
       "      <th>Subject ID</th>\n",
       "      <th>MRI ID</th>\n",
       "      <th>Group</th>\n",
       "      <th>Visit</th>\n",
       "      <th>MR Delay</th>\n",
       "      <th>M/F</th>\n",
       "      <th>Age</th>\n",
       "      <th>EDUC</th>\n",
       "      <th>SES</th>\n",
       "      <th>MMSE</th>\n",
       "      <th>CDR</th>\n",
       "      <th>eTIV</th>\n",
       "      <th>nWBV</th>\n",
       "      <th>ASF</th>\n",
       "    </tr>\n",
       "  </thead>\n",
       "  <tbody>\n",
       "    <tr>\n",
       "      <th>2</th>\n",
       "      <td>OAS2_0002</td>\n",
       "      <td>OAS2_0002_MR1</td>\n",
       "      <td>Demented</td>\n",
       "      <td>1</td>\n",
       "      <td>0</td>\n",
       "      <td>M</td>\n",
       "      <td>75</td>\n",
       "      <td>12</td>\n",
       "      <td>NaN</td>\n",
       "      <td>23.0</td>\n",
       "      <td>0.5</td>\n",
       "      <td>1678</td>\n",
       "      <td>0.736</td>\n",
       "      <td>1.046</td>\n",
       "    </tr>\n",
       "    <tr>\n",
       "      <th>3</th>\n",
       "      <td>OAS2_0002</td>\n",
       "      <td>OAS2_0002_MR2</td>\n",
       "      <td>Demented</td>\n",
       "      <td>2</td>\n",
       "      <td>560</td>\n",
       "      <td>M</td>\n",
       "      <td>76</td>\n",
       "      <td>12</td>\n",
       "      <td>NaN</td>\n",
       "      <td>28.0</td>\n",
       "      <td>0.5</td>\n",
       "      <td>1738</td>\n",
       "      <td>0.713</td>\n",
       "      <td>1.010</td>\n",
       "    </tr>\n",
       "    <tr>\n",
       "      <th>4</th>\n",
       "      <td>OAS2_0002</td>\n",
       "      <td>OAS2_0002_MR3</td>\n",
       "      <td>Demented</td>\n",
       "      <td>3</td>\n",
       "      <td>1895</td>\n",
       "      <td>M</td>\n",
       "      <td>80</td>\n",
       "      <td>12</td>\n",
       "      <td>NaN</td>\n",
       "      <td>22.0</td>\n",
       "      <td>0.5</td>\n",
       "      <td>1698</td>\n",
       "      <td>0.701</td>\n",
       "      <td>1.034</td>\n",
       "    </tr>\n",
       "    <tr>\n",
       "      <th>10</th>\n",
       "      <td>OAS2_0007</td>\n",
       "      <td>OAS2_0007_MR1</td>\n",
       "      <td>Demented</td>\n",
       "      <td>1</td>\n",
       "      <td>0</td>\n",
       "      <td>M</td>\n",
       "      <td>71</td>\n",
       "      <td>16</td>\n",
       "      <td>NaN</td>\n",
       "      <td>28.0</td>\n",
       "      <td>0.5</td>\n",
       "      <td>1357</td>\n",
       "      <td>0.748</td>\n",
       "      <td>1.293</td>\n",
       "    </tr>\n",
       "    <tr>\n",
       "      <th>11</th>\n",
       "      <td>OAS2_0007</td>\n",
       "      <td>OAS2_0007_MR3</td>\n",
       "      <td>Demented</td>\n",
       "      <td>3</td>\n",
       "      <td>518</td>\n",
       "      <td>M</td>\n",
       "      <td>73</td>\n",
       "      <td>16</td>\n",
       "      <td>NaN</td>\n",
       "      <td>27.0</td>\n",
       "      <td>1.0</td>\n",
       "      <td>1365</td>\n",
       "      <td>0.727</td>\n",
       "      <td>1.286</td>\n",
       "    </tr>\n",
       "    <tr>\n",
       "      <th>12</th>\n",
       "      <td>OAS2_0007</td>\n",
       "      <td>OAS2_0007_MR4</td>\n",
       "      <td>Demented</td>\n",
       "      <td>4</td>\n",
       "      <td>1281</td>\n",
       "      <td>M</td>\n",
       "      <td>75</td>\n",
       "      <td>16</td>\n",
       "      <td>NaN</td>\n",
       "      <td>27.0</td>\n",
       "      <td>1.0</td>\n",
       "      <td>1372</td>\n",
       "      <td>0.710</td>\n",
       "      <td>1.279</td>\n",
       "    </tr>\n",
       "    <tr>\n",
       "      <th>134</th>\n",
       "      <td>OAS2_0063</td>\n",
       "      <td>OAS2_0063_MR1</td>\n",
       "      <td>Demented</td>\n",
       "      <td>1</td>\n",
       "      <td>0</td>\n",
       "      <td>F</td>\n",
       "      <td>80</td>\n",
       "      <td>12</td>\n",
       "      <td>NaN</td>\n",
       "      <td>30.0</td>\n",
       "      <td>0.5</td>\n",
       "      <td>1430</td>\n",
       "      <td>0.737</td>\n",
       "      <td>1.228</td>\n",
       "    </tr>\n",
       "    <tr>\n",
       "      <th>135</th>\n",
       "      <td>OAS2_0063</td>\n",
       "      <td>OAS2_0063_MR2</td>\n",
       "      <td>Demented</td>\n",
       "      <td>2</td>\n",
       "      <td>490</td>\n",
       "      <td>F</td>\n",
       "      <td>81</td>\n",
       "      <td>12</td>\n",
       "      <td>NaN</td>\n",
       "      <td>27.0</td>\n",
       "      <td>0.5</td>\n",
       "      <td>1453</td>\n",
       "      <td>0.721</td>\n",
       "      <td>1.208</td>\n",
       "    </tr>\n",
       "    <tr>\n",
       "      <th>207</th>\n",
       "      <td>OAS2_0099</td>\n",
       "      <td>OAS2_0099_MR1</td>\n",
       "      <td>Demented</td>\n",
       "      <td>1</td>\n",
       "      <td>0</td>\n",
       "      <td>F</td>\n",
       "      <td>80</td>\n",
       "      <td>12</td>\n",
       "      <td>NaN</td>\n",
       "      <td>27.0</td>\n",
       "      <td>0.5</td>\n",
       "      <td>1475</td>\n",
       "      <td>0.762</td>\n",
       "      <td>1.190</td>\n",
       "    </tr>\n",
       "    <tr>\n",
       "      <th>208</th>\n",
       "      <td>OAS2_0099</td>\n",
       "      <td>OAS2_0099_MR2</td>\n",
       "      <td>Demented</td>\n",
       "      <td>2</td>\n",
       "      <td>807</td>\n",
       "      <td>F</td>\n",
       "      <td>83</td>\n",
       "      <td>12</td>\n",
       "      <td>NaN</td>\n",
       "      <td>23.0</td>\n",
       "      <td>0.5</td>\n",
       "      <td>1484</td>\n",
       "      <td>0.750</td>\n",
       "      <td>1.183</td>\n",
       "    </tr>\n",
       "    <tr>\n",
       "      <th>237</th>\n",
       "      <td>OAS2_0114</td>\n",
       "      <td>OAS2_0114_MR1</td>\n",
       "      <td>Demented</td>\n",
       "      <td>1</td>\n",
       "      <td>0</td>\n",
       "      <td>F</td>\n",
       "      <td>76</td>\n",
       "      <td>12</td>\n",
       "      <td>NaN</td>\n",
       "      <td>27.0</td>\n",
       "      <td>0.5</td>\n",
       "      <td>1316</td>\n",
       "      <td>0.727</td>\n",
       "      <td>1.333</td>\n",
       "    </tr>\n",
       "    <tr>\n",
       "      <th>238</th>\n",
       "      <td>OAS2_0114</td>\n",
       "      <td>OAS2_0114_MR2</td>\n",
       "      <td>Demented</td>\n",
       "      <td>2</td>\n",
       "      <td>570</td>\n",
       "      <td>F</td>\n",
       "      <td>78</td>\n",
       "      <td>12</td>\n",
       "      <td>NaN</td>\n",
       "      <td>27.0</td>\n",
       "      <td>1.0</td>\n",
       "      <td>1309</td>\n",
       "      <td>0.709</td>\n",
       "      <td>1.341</td>\n",
       "    </tr>\n",
       "    <tr>\n",
       "      <th>322</th>\n",
       "      <td>OAS2_0160</td>\n",
       "      <td>OAS2_0160_MR1</td>\n",
       "      <td>Demented</td>\n",
       "      <td>1</td>\n",
       "      <td>0</td>\n",
       "      <td>M</td>\n",
       "      <td>76</td>\n",
       "      <td>12</td>\n",
       "      <td>NaN</td>\n",
       "      <td>27.0</td>\n",
       "      <td>0.5</td>\n",
       "      <td>1557</td>\n",
       "      <td>0.705</td>\n",
       "      <td>1.127</td>\n",
       "    </tr>\n",
       "    <tr>\n",
       "      <th>323</th>\n",
       "      <td>OAS2_0160</td>\n",
       "      <td>OAS2_0160_MR2</td>\n",
       "      <td>Demented</td>\n",
       "      <td>2</td>\n",
       "      <td>552</td>\n",
       "      <td>M</td>\n",
       "      <td>78</td>\n",
       "      <td>12</td>\n",
       "      <td>NaN</td>\n",
       "      <td>29.0</td>\n",
       "      <td>1.0</td>\n",
       "      <td>1569</td>\n",
       "      <td>0.704</td>\n",
       "      <td>1.119</td>\n",
       "    </tr>\n",
       "    <tr>\n",
       "      <th>356</th>\n",
       "      <td>OAS2_0181</td>\n",
       "      <td>OAS2_0181_MR1</td>\n",
       "      <td>Demented</td>\n",
       "      <td>1</td>\n",
       "      <td>0</td>\n",
       "      <td>F</td>\n",
       "      <td>74</td>\n",
       "      <td>12</td>\n",
       "      <td>NaN</td>\n",
       "      <td>26.0</td>\n",
       "      <td>0.5</td>\n",
       "      <td>1171</td>\n",
       "      <td>0.733</td>\n",
       "      <td>1.499</td>\n",
       "    </tr>\n",
       "    <tr>\n",
       "      <th>357</th>\n",
       "      <td>OAS2_0181</td>\n",
       "      <td>OAS2_0181_MR2</td>\n",
       "      <td>Demented</td>\n",
       "      <td>2</td>\n",
       "      <td>539</td>\n",
       "      <td>F</td>\n",
       "      <td>75</td>\n",
       "      <td>12</td>\n",
       "      <td>NaN</td>\n",
       "      <td>NaN</td>\n",
       "      <td>1.0</td>\n",
       "      <td>1169</td>\n",
       "      <td>0.742</td>\n",
       "      <td>1.501</td>\n",
       "    </tr>\n",
       "    <tr>\n",
       "      <th>358</th>\n",
       "      <td>OAS2_0181</td>\n",
       "      <td>OAS2_0181_MR3</td>\n",
       "      <td>Demented</td>\n",
       "      <td>3</td>\n",
       "      <td>1107</td>\n",
       "      <td>F</td>\n",
       "      <td>77</td>\n",
       "      <td>12</td>\n",
       "      <td>NaN</td>\n",
       "      <td>NaN</td>\n",
       "      <td>1.0</td>\n",
       "      <td>1159</td>\n",
       "      <td>0.733</td>\n",
       "      <td>1.515</td>\n",
       "    </tr>\n",
       "    <tr>\n",
       "      <th>359</th>\n",
       "      <td>OAS2_0182</td>\n",
       "      <td>OAS2_0182_MR1</td>\n",
       "      <td>Demented</td>\n",
       "      <td>1</td>\n",
       "      <td>0</td>\n",
       "      <td>M</td>\n",
       "      <td>73</td>\n",
       "      <td>12</td>\n",
       "      <td>NaN</td>\n",
       "      <td>23.0</td>\n",
       "      <td>0.5</td>\n",
       "      <td>1661</td>\n",
       "      <td>0.698</td>\n",
       "      <td>1.056</td>\n",
       "    </tr>\n",
       "    <tr>\n",
       "      <th>360</th>\n",
       "      <td>OAS2_0182</td>\n",
       "      <td>OAS2_0182_MR2</td>\n",
       "      <td>Demented</td>\n",
       "      <td>2</td>\n",
       "      <td>776</td>\n",
       "      <td>M</td>\n",
       "      <td>75</td>\n",
       "      <td>12</td>\n",
       "      <td>NaN</td>\n",
       "      <td>20.0</td>\n",
       "      <td>0.5</td>\n",
       "      <td>1654</td>\n",
       "      <td>0.696</td>\n",
       "      <td>1.061</td>\n",
       "    </tr>\n",
       "  </tbody>\n",
       "</table>\n",
       "</div>"
      ],
      "text/plain": [
       "    Subject ID         MRI ID     Group  Visit  MR Delay M/F  Age  EDUC  SES  \\\n",
       "2    OAS2_0002  OAS2_0002_MR1  Demented      1         0   M   75    12  NaN   \n",
       "3    OAS2_0002  OAS2_0002_MR2  Demented      2       560   M   76    12  NaN   \n",
       "4    OAS2_0002  OAS2_0002_MR3  Demented      3      1895   M   80    12  NaN   \n",
       "10   OAS2_0007  OAS2_0007_MR1  Demented      1         0   M   71    16  NaN   \n",
       "11   OAS2_0007  OAS2_0007_MR3  Demented      3       518   M   73    16  NaN   \n",
       "12   OAS2_0007  OAS2_0007_MR4  Demented      4      1281   M   75    16  NaN   \n",
       "134  OAS2_0063  OAS2_0063_MR1  Demented      1         0   F   80    12  NaN   \n",
       "135  OAS2_0063  OAS2_0063_MR2  Demented      2       490   F   81    12  NaN   \n",
       "207  OAS2_0099  OAS2_0099_MR1  Demented      1         0   F   80    12  NaN   \n",
       "208  OAS2_0099  OAS2_0099_MR2  Demented      2       807   F   83    12  NaN   \n",
       "237  OAS2_0114  OAS2_0114_MR1  Demented      1         0   F   76    12  NaN   \n",
       "238  OAS2_0114  OAS2_0114_MR2  Demented      2       570   F   78    12  NaN   \n",
       "322  OAS2_0160  OAS2_0160_MR1  Demented      1         0   M   76    12  NaN   \n",
       "323  OAS2_0160  OAS2_0160_MR2  Demented      2       552   M   78    12  NaN   \n",
       "356  OAS2_0181  OAS2_0181_MR1  Demented      1         0   F   74    12  NaN   \n",
       "357  OAS2_0181  OAS2_0181_MR2  Demented      2       539   F   75    12  NaN   \n",
       "358  OAS2_0181  OAS2_0181_MR3  Demented      3      1107   F   77    12  NaN   \n",
       "359  OAS2_0182  OAS2_0182_MR1  Demented      1         0   M   73    12  NaN   \n",
       "360  OAS2_0182  OAS2_0182_MR2  Demented      2       776   M   75    12  NaN   \n",
       "\n",
       "     MMSE  CDR  eTIV   nWBV    ASF  \n",
       "2    23.0  0.5  1678  0.736  1.046  \n",
       "3    28.0  0.5  1738  0.713  1.010  \n",
       "4    22.0  0.5  1698  0.701  1.034  \n",
       "10   28.0  0.5  1357  0.748  1.293  \n",
       "11   27.0  1.0  1365  0.727  1.286  \n",
       "12   27.0  1.0  1372  0.710  1.279  \n",
       "134  30.0  0.5  1430  0.737  1.228  \n",
       "135  27.0  0.5  1453  0.721  1.208  \n",
       "207  27.0  0.5  1475  0.762  1.190  \n",
       "208  23.0  0.5  1484  0.750  1.183  \n",
       "237  27.0  0.5  1316  0.727  1.333  \n",
       "238  27.0  1.0  1309  0.709  1.341  \n",
       "322  27.0  0.5  1557  0.705  1.127  \n",
       "323  29.0  1.0  1569  0.704  1.119  \n",
       "356  26.0  0.5  1171  0.733  1.499  \n",
       "357   NaN  1.0  1169  0.742  1.501  \n",
       "358   NaN  1.0  1159  0.733  1.515  \n",
       "359  23.0  0.5  1661  0.698  1.056  \n",
       "360  20.0  0.5  1654  0.696  1.061  "
      ]
     },
     "execution_count": 11,
     "metadata": {},
     "output_type": "execute_result"
    }
   ],
   "source": [
    "dem_df[dem_df.isnull().any(axis=1)]"
   ]
  },
  {
   "cell_type": "code",
   "execution_count": 12,
   "metadata": {},
   "outputs": [
    {
     "data": {
      "text/plain": [
       "MMSE    0\n",
       "dtype: int64"
      ]
     },
     "execution_count": 12,
     "metadata": {},
     "output_type": "execute_result"
    }
   ],
   "source": [
    "median_imputer = SimpleImputer(missing_values=np.nan,strategy=\"median\")\n",
    "\n",
    "median_imputer.fit(dem_df[[\"MMSE\"]])\n",
    "\n",
    "dem_df[[\"MMSE\"]] = median_imputer.fit_transform(dem_df[[\"MMSE\"]])\n",
    "\n",
    "dem_df[[\"MMSE\"]].isna().sum()"
   ]
  },
  {
   "cell_type": "code",
   "execution_count": 16,
   "metadata": {},
   "outputs": [
    {
     "data": {
      "text/plain": [
       "SES    0\n",
       "dtype: int64"
      ]
     },
     "execution_count": 16,
     "metadata": {},
     "output_type": "execute_result"
    }
   ],
   "source": [
    "dem_df[\"SES\"].fillna(dem_df.groupby(\"EDUC\")[\"SES\"].transform(\"median\"), inplace=True)\n",
    "\n",
    "dem_df[[\"SES\"]].isna().sum()"
   ]
  },
  {
   "cell_type": "markdown",
   "metadata": {},
   "source": [
    "## 4. Model Construction\n",
    "\n",
    "split train test, bootstrap\n",
    "xgboost vs two classifiers*\n",
    "90-10\n"
   ]
  },
  {
   "cell_type": "markdown",
   "metadata": {},
   "source": [
    "## 5. Hyperparameter Tuning"
   ]
  },
  {
   "cell_type": "markdown",
   "metadata": {},
   "source": [
    "## 6. Discussion\n",
    "\n",
    "## SHAP ANALYSIS ON THE BEST CLASSIFIER"
   ]
  },
  {
   "cell_type": "code",
   "execution_count": null,
   "metadata": {},
   "outputs": [],
   "source": []
  }
 ],
 "metadata": {
  "kernelspec": {
   "display_name": "Python 3",
   "language": "python",
   "name": "python3"
  },
  "language_info": {
   "codemirror_mode": {
    "name": "ipython",
    "version": 3
   },
   "file_extension": ".py",
   "mimetype": "text/x-python",
   "name": "python",
   "nbconvert_exporter": "python",
   "pygments_lexer": "ipython3",
   "version": "3.8.5"
  }
 },
 "nbformat": 4,
 "nbformat_minor": 4
}
