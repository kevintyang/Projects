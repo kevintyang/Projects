{
  "nbformat": 4,
  "nbformat_minor": 0,
  "metadata": {
    "colab": {
      "name": "Long-haul COVID.ipynb",
      "provenance": [],
      "collapsed_sections": []
    },
    "kernelspec": {
      "name": "python3",
      "display_name": "Python 3"
    },
    "language_info": {
      "name": "python"
    }
  },
  "cells": [
    {
      "cell_type": "markdown",
      "metadata": {
        "id": "Zt_Z155q-jl-"
      },
      "source": [
        "### Cleaning the Lab Results CSV"
      ]
    },
    {
      "cell_type": "code",
      "metadata": {
        "id": "kLviuOnZIdFy"
      },
      "source": [
        "#imports\n",
        "import pandas as pd\n",
        "import zipfile\n",
        "import numpy as np"
      ],
      "execution_count": null,
      "outputs": []
    },
    {
      "cell_type": "code",
      "metadata": {
        "id": "qJjeZisq6AN1"
      },
      "source": [
        "# Check size of Lab Results CSV\n",
        "def row_count(input):\n",
        "    with open(input) as f:\n",
        "        for i, l in enumerate(f):\n",
        "            pass\n",
        "    return i\n",
        "row_count('lab_result.zip')"
      ],
      "execution_count": null,
      "outputs": []
    },
    {
      "cell_type": "code",
      "metadata": {
        "id": "mSZuDLmm5BwO"
      },
      "source": [
        "# Filter Lab Results csv for only positive values\n",
        "iter_csv = pd.read_csv('lab_result.csv', iterator=True, chunksize=1000000)\n",
        "df = pd.concat([chunk[chunk['lab_result_text_val'] == 'Positive'] for chunk in iter_csv])"
      ],
      "execution_count": null,
      "outputs": []
    },
    {
      "cell_type": "code",
      "metadata": {
        "id": "0-ReDbqykn6Y"
      },
      "source": [
        "# Filter for COVID LOINC codes\n",
        "LOINC_code = ['94309-2', '94315-9', '94316-7', '94500-6', '94502-2', '94505-5', '94506-3',\n",
        "    '94507-1', '94508-9', '94533-7', '94534-5', '94559-2', '94565-9', '94758-0',\n",
        "    '94759-8', '9088', '9089']\n",
        "\n",
        "loincdf = df[df['code'].isin(LOINC_code)]"
      ],
      "execution_count": null,
      "outputs": []
    },
    {
      "cell_type": "markdown",
      "metadata": {
        "id": "9OK5DaJ6lAzb"
      },
      "source": [
        "## Cleaning the Diagnosis CSV"
      ]
    },
    {
      "cell_type": "code",
      "metadata": {
        "id": "H0Vbr0bhlLUO"
      },
      "source": [
        "# Filter Diagnosis CSV \n",
        "DX_code = ['B34.2', 'B97.29', 'U07.1', 'U07.2', 'J12.81']\n",
        "\n",
        "iter_csv = pd.read_csv('diagnosis.csv', iterator=True, chunksize=1000000)\n",
        "df = pd.concat([chunk[chunk['code'].isin(DX_code)] for chunk in iter_csv])"
      ],
      "execution_count": null,
      "outputs": []
    },
    {
      "cell_type": "markdown",
      "metadata": {
        "id": "6HuarCkjlm0Y"
      },
      "source": [
        "## Appending the Lab Result and Diagnosis Dataframes"
      ]
    },
    {
      "cell_type": "code",
      "metadata": {
        "id": "tIKtIVJHlvqK"
      },
      "source": [
        "result = df.append(loincdf, ignore_index=True, sort=False)\n",
        "result = result.sort_values(by=['date']) # sort by first date of COVID diagnosis or positive test\n",
        "result = result[result['date'] > 20191231] # some patient have a COVID diagnosis prior to 2019, we'll call this a mistake\n",
        "result = result.drop_duplicates(subset='patient_id', keep=\"first\") # drop duplicates and keep the earliest entry"
      ],
      "execution_count": null,
      "outputs": []
    },
    {
      "cell_type": "markdown",
      "metadata": {
        "id": "GrKXMcHZm-g4"
      },
      "source": [
        "## Merging the Lab Result x Diagnosis dataframe to the Patient CSV"
      ]
    },
    {
      "cell_type": "code",
      "metadata": {
        "id": "p_c7GSjhnKGZ"
      },
      "source": [
        "# read in the patient csv\n",
        "df3 = pd.read_csv('patient.zip') "
      ],
      "execution_count": null,
      "outputs": []
    },
    {
      "cell_type": "code",
      "metadata": {
        "id": "DJs8F18UNMAz"
      },
      "source": [
        "# basic stats\n",
        "df3.describe()"
      ],
      "execution_count": null,
      "outputs": []
    },
    {
      "cell_type": "markdown",
      "metadata": {
        "id": "SC0iYzEhNPWd"
      },
      "source": [
        "We see that we have over 1.6 million patients!  \n",
        "The mean age is (2021 - 1974 =) 47, with a standard deviation of 21 years.  \n",
        "The people who died, usually did at 66, but we have patients who have died as early as 58 or as late as 90.  \n",
        "Unfortunately, the postal code column is empty, so we wont be able to do any regional analysis :(\n"
      ]
    },
    {
      "cell_type": "code",
      "metadata": {
        "id": "6zegyu9oQhh8"
      },
      "source": [
        "# groupby sex and race\n",
        "sex = df3.groupby('sex')\n",
        "race = df3.groupby('race')"
      ],
      "execution_count": null,
      "outputs": []
    },
    {
      "cell_type": "code",
      "metadata": {
        "id": "7Aw99D4FOZQM"
      },
      "source": [
        "# data visualization: Sex\n",
        "plt.figure(figsize=(5,5))\n",
        "sex.size().sort_values(ascending=False).plot.bar()\n",
        "plt.xlabel(\"Sex\")\n",
        "plt.ylabel(\"Count\")\n",
        "plt.show()"
      ],
      "execution_count": null,
      "outputs": []
    },
    {
      "cell_type": "markdown",
      "metadata": {
        "id": "CIrNTdT5Qnuj"
      },
      "source": [
        "Our study participants are mainly female."
      ]
    },
    {
      "cell_type": "code",
      "metadata": {
        "id": "A4oeALzwQs4g"
      },
      "source": [
        "# data visualization: Race\n",
        "plt.figure(figsize=(5,5))\n",
        "race.size().sort_values(ascending=False).plot.bar()\n",
        "plt.xlabel(\"Race\")\n",
        "plt.ylabel(\"Count\")\n",
        "plt.show()"
      ],
      "execution_count": null,
      "outputs": []
    },
    {
      "cell_type": "markdown",
      "metadata": {
        "id": "GSKcSjHEQ_iB"
      },
      "source": [
        "And mostly white."
      ]
    },
    {
      "cell_type": "code",
      "metadata": {
        "id": "MQOn8IGEMgFl"
      },
      "source": [
        "# Merge the Diagnosis x Lab Results csv with the patient csv\n",
        "master = df3.merge(result, how='left', on='patient_id')\n",
        "master = master[master['code'].notna()] # drop the patients with no COVID \n",
        "master = master.drop(['postal_code', 'derived_by_TriNetX', 'lab_result_num_val'], axis=1) # remove unnecessary columns"
      ],
      "execution_count": null,
      "outputs": []
    },
    {
      "cell_type": "markdown",
      "metadata": {
        "id": "SamxkrL-2qe_"
      },
      "source": [
        "## Splitting the diagnosis dataset into pre-COVID and post-COVID"
      ]
    },
    {
      "cell_type": "code",
      "metadata": {
        "id": "_kxOg0k52pwJ"
      },
      "source": [
        "# Make a list of patient ID's, first COVID, and top 200 codes\n",
        "PID = list(master['patient_id'])\n",
        "dates = list(master['date'])\n",
        "codes = pd.read_csv('200_Common_Codes.csv')\n",
        "code_list = list(codes['Unnamed: 0'])"
      ],
      "execution_count": null,
      "outputs": []
    },
    {
      "cell_type": "code",
      "metadata": {
        "id": "VJBje0KY3TJ3"
      },
      "source": [
        "# Read in the diagnosis csv and filter by patient ID\n",
        "iter_csv = pd.read_csv('diagnosis.zip', iterator=True, chunksize=1000000)\n",
        "df = pd.concat([chunk[chunk['patient_id'].isin(PID)] for chunk in iter_csv])"
      ],
      "execution_count": null,
      "outputs": []
    },
    {
      "cell_type": "code",
      "metadata": {
        "id": "8zstf_se3BuU"
      },
      "source": [
        "# append chunks to an empty list\n",
        "chunks = []\n",
        "for i in range(int(0.1 * len(PID))): # 10% of the patients will be used as proof of concept\n",
        "   chunks.append(df[(df['patient_id'] == PID[i] ) & (df['date']<dates[i])])\n",
        "\n",
        "# concatenate chunks to df and filter for 200 most common codes \n",
        "pre_covid = pd.concat(chunks)\n",
        "pre_covid = pre_covid[pre_covid['code'].isin(code_list)]\n",
        "\n",
        "# write to csv\n",
        "pre_covid.to_csv('pre_covid.csv')\n"
      ],
      "execution_count": null,
      "outputs": []
    },
    {
      "cell_type": "markdown",
      "metadata": {
        "id": "w6GM1eM03i7i"
      },
      "source": [
        "![Screen Shot 2021-04-26 at 11.17.10 PM.png](data:image/png;base64,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)"
      ]
    },
    {
      "cell_type": "markdown",
      "metadata": {
        "id": "8rpkfg5w3qib"
      },
      "source": [
        "This block of code takes 12 hours to run, we would need over 120 hours to process the whole dataset (just for pre-COVID diagnoses)."
      ]
    },
    {
      "cell_type": "code",
      "metadata": {
        "id": "jsWiV3gH38Aw"
      },
      "source": [
        "# create a column of 14 days post-COVID diagnosis as integer type\n",
        "master['datetime'] = pd.to_datetime(master['date'].astype(str), format='%Y%m%d')\n",
        "master[\"post_date\"] = master.datetime + pd.Timedelta(days=14)\n",
        "master['post_date'] = pd.to_datetime(master['post_date']).dt.strftime(\"%Y%m%d\")\n",
        "master['post_date'] = master['post_date'].astype(int)\n",
        "post_dates = list(master['post_date'])"
      ],
      "execution_count": null,
      "outputs": []
    },
    {
      "cell_type": "code",
      "metadata": {
        "id": "mC1MEp1h4VKU"
      },
      "source": [
        "# append chunks to an empty list\n",
        "chunks = []\n",
        "for i in range(int(0.1 * len(PID))):\n",
        "   chunks.append(df[(df['patient_id'] == PID[i] ) & (df['date']>dates[i])])\n",
        "\n",
        "# concatenate chunks to df and filter for 200 most common codes \n",
        "post_covid = pd.concat(chunks)\n",
        "post_covid = post_covid[post_covid['code'].isin(code_list)]\n",
        "\n",
        "# write to csv\n",
        "post_covid.to_csv('post_covid.csv')"
      ],
      "execution_count": null,
      "outputs": []
    },
    {
      "cell_type": "markdown",
      "metadata": {
        "id": "jwg7qh6kkXVG"
      },
      "source": [
        "![Screen Shot 2021-04-27 at 11.47.54 AM.png](data:image/png;base64,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)"
      ]
    },
    {
      "cell_type": "markdown",
      "metadata": {
        "id": "jJREgUzBm4lV"
      },
      "source": [
        "### Mapping diagnosis descriptions to codes and visualizing the results"
      ]
    },
    {
      "cell_type": "code",
      "metadata": {
        "id": "jKCLtL-1nBUk"
      },
      "source": [
        "# read in terminology csv\n",
        "term = pd.read_csv('standardized_terminology.csv')\n",
        "\n",
        "# cleaning\n",
        "pre = pre_covid.drop_duplicates(subset=['patient_id', 'code'], keep='last')\n",
        "post = post_covid.drop_duplicates(subset=['patient_id', 'code'], keep='last')\n",
        "term = term[['code', 'code_description']]\n",
        "\n",
        "# joining\n",
        "pre = pd.merge(pre, term, on='code', how='left')\n",
        "post = pd.merge(post, term, on='code', how='left')\n",
        "\n",
        "# group by code description\n",
        "pre_description = pre.groupby(['code_description'])\n",
        "post_description = post.groupby(['code_description'])"
      ],
      "execution_count": null,
      "outputs": []
    },
    {
      "cell_type": "code",
      "metadata": {
        "id": "9ee0qSAnnGS6"
      },
      "source": [
        "# Pre-COVID diagnoses\n",
        "plt.figure(figsize=(20,40))\n",
        "pre_description.size().sort_values(ascending=True).plot.barh()\n",
        "plt.xlabel(\"Count\")\n",
        "plt.ylabel(\"Diagnosis\")\n",
        "plt.show()"
      ],
      "execution_count": null,
      "outputs": []
    },
    {
      "cell_type": "code",
      "metadata": {
        "id": "4az0e7IipO9h"
      },
      "source": [
        "# Post-COVID diagnoses\n",
        "plt.figure(figsize=(20,40))\n",
        "post_description.size().sort_values(ascending=True).plot.barh()\n",
        "plt.xlabel(\"Count\")\n",
        "plt.ylabel(\"Diagnosis\")\n",
        "plt.show()"
      ],
      "execution_count": null,
      "outputs": []
    },
    {
      "cell_type": "markdown",
      "metadata": {
        "id": "1fKn_UW3JHdT"
      },
      "source": [
        "# Diagnosis Profiling- John"
      ]
    },
    {
      "cell_type": "code",
      "metadata": {
        "id": "m7LNcPX0JQPC"
      },
      "source": [
        "import pandas as pd\n",
        "pd.options.display.max_rows=None\n",
        "import matplotlib\n",
        "import numpy as np\n",
        "import matplotlib.pyplot as plt\n"
      ],
      "execution_count": null,
      "outputs": []
    },
    {
      "cell_type": "code",
      "metadata": {
        "id": "Tra1pJ5TJwQo"
      },
      "source": [
        "#Following code was found on this stack overflow page: https://stackoverflow.com/questions/44144843/find-number-of-rows-in-large-csv-file-using-python\n",
        "def row_count(input):\n",
        "    with open(input) as f:\n",
        "        for i, l in enumerate(f):\n",
        "            pass\n",
        "    return i\n",
        "row_count('diagnosis.csv')\n",
        "#This cell calculates the number of rows= 324,179,748"
      ],
      "execution_count": null,
      "outputs": []
    },
    {
      "cell_type": "code",
      "metadata": {
        "id": "TWp-2GMTJ0ov"
      },
      "source": [
        "head=pd.read_csv('diagnosis.csv', nrows=1, header=0)\n",
        "head.head()"
      ],
      "execution_count": null,
      "outputs": []
    },
    {
      "cell_type": "markdown",
      "metadata": {
        "id": "-A--qqxRKCPQ"
      },
      "source": [
        "The above code shows the columns for this dataset. Because the we are looking for characteristics of patients with long haul covid both before and after, we will want to drop the ‘encounter_id’ because it contains information about location and provider while we are only interested in the diagnosis and date of the diagnosis for each patient.We will also drop the ‘derived_by_TriNetX’ column because it is also not relevant information for our purposes."
      ]
    },
    {
      "cell_type": "code",
      "metadata": {
        "id": "sARHFHx2J0ub"
      },
      "source": [
        "#The diagnosis.csv file is 39.9 GB is size. To large for this computer to be able to read into a single dataframe.\n",
        "#By trail and error while also knowing the number of rows in the dataset. I made smaller dataframes that could be handled.\n",
        "dia=pd.read_csv('diagnosis.csv', nrows=100000000, dtype='object')"
      ],
      "execution_count": null,
      "outputs": []
    },
    {
      "cell_type": "code",
      "metadata": {
        "id": "kQ_yBR2HJ023"
      },
      "source": [
        "print(dia.shape)\n",
        "dia=dia.drop_duplicates()\n",
        "print(dia.shape)"
      ],
      "execution_count": null,
      "outputs": []
    },
    {
      "cell_type": "code",
      "metadata": {
        "id": "kF06gyZIK8Tz"
      },
      "source": [
        "dia2=pd.read_csv('diagnosis.csv',skiprows=range(1,100000000), nrows=100000000)"
      ],
      "execution_count": null,
      "outputs": []
    },
    {
      "cell_type": "code",
      "metadata": {
        "id": "zRteaPkvJ1Df"
      },
      "source": [
        "dia=dia.drop(columns=['encounter_id'])\n",
        "dia=dia.drop(columns=['derived_by_TriNetX'])\n",
        "dia2=dia2.drop(columns=['encounter_id'])\n",
        "dia2=dia2.drop(columns=['derived_by_TriNetX'])\n"
      ],
      "execution_count": null,
      "outputs": []
    },
    {
      "cell_type": "code",
      "metadata": {
        "id": "lIPVmx44KkT_"
      },
      "source": [
        "print(dia2.shape)\n",
        "dia2=dia2.drop_duplicates()\n",
        "print(dia2.shape)"
      ],
      "execution_count": null,
      "outputs": []
    },
    {
      "cell_type": "code",
      "metadata": {
        "id": "dhld_BKZKkh0"
      },
      "source": [
        "item_counts2=dia2['code'].value_counts()"
      ],
      "execution_count": null,
      "outputs": []
    },
    {
      "cell_type": "code",
      "metadata": {
        "id": "tNGwxcgmJ1VY"
      },
      "source": [
        "dia3=pd.read_csv('diagnosis.csv',skiprows=range(1,200000000), nrows=100000000)"
      ],
      "execution_count": null,
      "outputs": []
    },
    {
      "cell_type": "code",
      "metadata": {
        "id": "ygrsIabGLrdc"
      },
      "source": [
        "print(dia3.shape)\n",
        "dia3=dia3.drop_duplicates()\n",
        "print(dia3.shape)"
      ],
      "execution_count": null,
      "outputs": []
    },
    {
      "cell_type": "code",
      "metadata": {
        "id": "FVWrO-83LsAk"
      },
      "source": [
        "dia3=dia3.drop(columns=['encounter_id'])\n",
        "dia3=dia3.drop(columns=['derived_by_TriNetX'])\n",
        "item_counts3=dia3['code'].value_counts()"
      ],
      "execution_count": null,
      "outputs": []
    },
    {
      "cell_type": "code",
      "metadata": {
        "id": "VLANXvSULsKh"
      },
      "source": [
        "dia4=pd.read_csv('diagnosis.csv', skiprows=range(1,300000000))"
      ],
      "execution_count": null,
      "outputs": []
    },
    {
      "cell_type": "code",
      "metadata": {
        "id": "WqEOFGflLsQN"
      },
      "source": [
        "print(dia4.shape)\n",
        "dia4=dia4.drop_duplicates()\n",
        "print(dia4.shape)"
      ],
      "execution_count": null,
      "outputs": []
    },
    {
      "cell_type": "code",
      "metadata": {
        "id": "8-qg1f0WLsZU"
      },
      "source": [
        "dia4=dia4.drop(columns=['encounter_id'])\n",
        "dia4=dia4.drop(columns=['derived_by_TriNetX'])\n",
        "item_counts4=dia4['code'].value_counts()"
      ],
      "execution_count": null,
      "outputs": []
    },
    {
      "cell_type": "code",
      "metadata": {
        "id": "rAIttL47Lsir"
      },
      "source": [
        "#This cell shows the code systems used in this dataset\n",
        "df_list=[dia, dia2, dia3, dia4]\n",
        "for i in df_list:\n",
        "    dia_uc=i['code_system'].unique()\n",
        "    print(dia_uc)"
      ],
      "execution_count": null,
      "outputs": []
    },
    {
      "cell_type": "markdown",
      "metadata": {
        "id": "iEoPVESaMLhF"
      },
      "source": [
        "The above results shows only the code systems 'ICD-10-CM' and 'ICD-9-CM' are used. We need to find if there are any missing entries and determine what to do with them."
      ]
    },
    {
      "cell_type": "code",
      "metadata": {
        "id": "8aLWD-GVL_Im"
      },
      "source": [
        "bad_codes=dia[dia['code_system'].isna()]\n",
        "bad_codes"
      ],
      "execution_count": null,
      "outputs": []
    },
    {
      "cell_type": "code",
      "metadata": {
        "id": "GmvbBSUIMSm7"
      },
      "source": [
        "bad_codes=dia2[dia2['code_system'].isna()]\n",
        "bad_codes"
      ],
      "execution_count": null,
      "outputs": []
    },
    {
      "cell_type": "code",
      "metadata": {
        "id": "QltZoX4bMS0J"
      },
      "source": [
        "nulls=dia[dia.isna().any(axis=1)]\n",
        "nulls"
      ],
      "execution_count": null,
      "outputs": []
    },
    {
      "cell_type": "code",
      "metadata": {
        "id": "W5wVAVz3MaVf"
      },
      "source": [
        "nulls=dia2[dia2.isna().any(axis=1)]\n",
        "nulls"
      ],
      "execution_count": null,
      "outputs": []
    },
    {
      "cell_type": "code",
      "metadata": {
        "id": "M09qgSjgMbRC"
      },
      "source": [
        "nulls=dia3[dia3.isna().any(axis=1)]\n",
        "nulls"
      ],
      "execution_count": null,
      "outputs": []
    },
    {
      "cell_type": "code",
      "metadata": {
        "id": "nAhZ5i0oMdnI"
      },
      "source": [
        "nulls=dia4[dia4.isna().any(axis=1)]\n",
        "nulls"
      ],
      "execution_count": null,
      "outputs": []
    },
    {
      "cell_type": "markdown",
      "metadata": {
        "id": "NTU9b8JTMi-d"
      },
      "source": [
        "There were only 3 entries with missing values for the code system. The most conservative approach is to just drop these rows because we do not know which system they code for and it is only a minimal amount of potential information lost."
      ]
    },
    {
      "cell_type": "code",
      "metadata": {
        "id": "4CZ43M9gMdtu"
      },
      "source": [
        "dia=dia.dropna()\n",
        "dia2=dia2.dropna("
      ],
      "execution_count": null,
      "outputs": []
    },
    {
      "cell_type": "markdown",
      "metadata": {
        "id": "ujbOs_wMMnZi"
      },
      "source": [
        "Now we need to make sure that all the code represent good information. To do this we need to check that each code appears in the code system it is associated with. If it is not found in our terminology.csv, we will assume that it was encoded improperly and get rid of it."
      ]
    },
    {
      "cell_type": "code",
      "metadata": {
        "id": "DcoOFj3CMd6m"
      },
      "source": [
        "icd9cm=pd.read_csv('ICD9_Codes.csv')\n",
        "icd10cm=pd.read_csv('ICD10_Codes.csv')"
      ],
      "execution_count": null,
      "outputs": []
    },
    {
      "cell_type": "code",
      "metadata": {
        "id": "ant3djgRMrXA"
      },
      "source": [
        "icd10=icd10cm['code'].tolist()\n",
        "print(len(icd10))\n",
        "icd9=icd9cm['code'].tolist()\n",
        "print(len(icd9))\n",
        "for i in icd9:\n",
        "    icd10.append(i)\n",
        "print(len(icd10))"
      ],
      "execution_count": null,
      "outputs": []
    },
    {
      "cell_type": "code",
      "metadata": {
        "id": "4zwI9oIqMrtK"
      },
      "source": [
        "x=dia.isin(icd10)\n",
        "x=x[x['code']==False]\n",
        "x.shape"
      ],
      "execution_count": null,
      "outputs": []
    },
    {
      "cell_type": "code",
      "metadata": {
        "id": "TPmIcU4KMeBl"
      },
      "source": [
        "x=dia2.isin(icd10)\n",
        "x=x[x['code']==False]\n",
        "x.shape"
      ],
      "execution_count": null,
      "outputs": []
    },
    {
      "cell_type": "code",
      "metadata": {
        "id": "hydcJgN9M-Ff"
      },
      "source": [
        "x=dia3.isin(icd10)\n",
        "x=x[x['code']==False]\n",
        "x.shape"
      ],
      "execution_count": null,
      "outputs": []
    },
    {
      "cell_type": "code",
      "metadata": {
        "id": "YI7WkpqYNDAI"
      },
      "source": [
        "x=dia4.isin(icd10)\n",
        "x=x[x['code']==False]\n",
        "x.shape"
      ],
      "execution_count": null,
      "outputs": []
    },
    {
      "cell_type": "code",
      "metadata": {
        "id": "En3sqGmINMxX"
      },
      "source": [
        "pats=pd.read_csv('patient.csv')"
      ],
      "execution_count": null,
      "outputs": []
    },
    {
      "cell_type": "code",
      "metadata": {
        "id": "BrtkLae6NNeY"
      },
      "source": [
        "pats=pats['patient_id'].tolist()"
      ],
      "execution_count": null,
      "outputs": []
    },
    {
      "cell_type": "code",
      "metadata": {
        "id": "0fuWDhpXNNr1"
      },
      "source": [
        "x=dia.isin(pats)\n",
        "x=x[x['patient_id']==False]\n",
        "x.shape"
      ],
      "execution_count": null,
      "outputs": []
    },
    {
      "cell_type": "code",
      "metadata": {
        "id": "PllrumsWNXim"
      },
      "source": [
        "x=dia2.isin(pats)\n",
        "x=x[x['patient_id']==False]\n",
        "x.shape"
      ],
      "execution_count": null,
      "outputs": []
    },
    {
      "cell_type": "code",
      "metadata": {
        "id": "7YhI3yGHNN1k"
      },
      "source": [
        "x=dia3.isin(pats)\n",
        "x=x[x['patient_id']==False]\n",
        "x.shape"
      ],
      "execution_count": null,
      "outputs": []
    },
    {
      "cell_type": "code",
      "metadata": {
        "id": "JkNO11RJNN9o"
      },
      "source": [
        "x=dia4.isin(pats)\n",
        "x=x[x['patient_id']==False]\n",
        "x.shape"
      ],
      "execution_count": null,
      "outputs": []
    },
    {
      "cell_type": "code",
      "metadata": {
        "id": "0UgI5RWeNOF7"
      },
      "source": [
        "sum_column = item_counts.combine(item_counts2, max, fill_value=0)\n",
        "sum_column = sum_column.combine(item_counts3, max, fill_value=0)\n",
        "sum_column = sum_column.combine(item_counts4, max, fill_value=0)"
      ],
      "execution_count": null,
      "outputs": []
    },
    {
      "cell_type": "code",
      "metadata": {
        "id": "Up7n4y4qNxD9"
      },
      "source": [
        "p_counts = dia['patient_id'].value_counts()\n",
        "p_counts2 = dia2['patient_id'].value_counts()\n",
        "p_counts3 = dia3['patient_id'].value_counts()\n",
        "p_counts4 = dia4['patient_id'].value_counts()\n"
      ],
      "execution_count": null,
      "outputs": []
    },
    {
      "cell_type": "code",
      "metadata": {
        "id": "xaQxZuBiN80f"
      },
      "source": [
        "p_cob=p_counts.combine(p_counts2, max, fill_value=0)\n",
        "p_cob=p_cob.combine(p_counts3, max, fill_value=0)\n",
        "p_cob=p_cob.combine(p_counts4, max, fill_value=0)\n",
        "p_cob.describe()"
      ],
      "execution_count": null,
      "outputs": []
    },
    {
      "cell_type": "code",
      "metadata": {
        "id": "PR-yz5G1ODTl"
      },
      "source": [
        "p_cob.median()"
      ],
      "execution_count": null,
      "outputs": []
    },
    {
      "cell_type": "code",
      "metadata": {
        "id": "fDWJRaJkOFZX"
      },
      "source": [
        "plt.hist(p_cob, 100, range= (0,40))"
      ],
      "execution_count": null,
      "outputs": []
    },
    {
      "cell_type": "markdown",
      "metadata": {
        "id": "r04i2A_uOMZ2"
      },
      "source": [
        "Now we must transform this data by only keeping the patients that we have determined have covid for this project. Then we will preform some of the same data profiling as before."
      ]
    },
    {
      "cell_type": "code",
      "metadata": {
        "id": "Gue-VLrMOH2M"
      },
      "source": [
        "pats=pd.read_csv('master.csv')\n",
        "pats=pats['patient_id'].tolist()\n",
        "x=dia[dia.patient_id.isin(pats)]\n",
        "x.shape"
      ],
      "execution_count": null,
      "outputs": []
    },
    {
      "cell_type": "code",
      "metadata": {
        "id": "yXvL-MhKOIEv"
      },
      "source": [
        "x2=dia[dia.patient_id.isin(pats)]\n",
        "x3=dia[dia.patient_id.isin(pats)]\n",
        "x4=dia[dia.patient_id.isin(pats)]\n",
        "xc=x['patient_id'].value_counts()\n",
        "xc2=x2['patient_id'].value_counts()\n",
        "xc3=x3['patient_id'].value_counts()\n",
        "xc4=x4['patient_id'].value_counts()\n",
        "xcc=xc.combine(xc2, max, fill_value=0)\n",
        "xcc=xcc.combine(xc3, max, fill_value=0)\n",
        "xcc=xcc.combine(xc4, max, fill_value=0)\n",
        "xcc.describe()"
      ],
      "execution_count": null,
      "outputs": []
    },
    {
      "cell_type": "code",
      "metadata": {
        "id": "vJDeERprOs8q"
      },
      "source": [
        "xcc.median()"
      ],
      "execution_count": null,
      "outputs": []
    },
    {
      "cell_type": "code",
      "metadata": {
        "id": "RC1e3ZjfOvPB"
      },
      "source": [
        "plt.hist(xcc, 100, range= (0,40))"
      ],
      "execution_count": null,
      "outputs": []
    },
    {
      "cell_type": "code",
      "metadata": {
        "id": "DS_yTPZBOxvg"
      },
      "source": [
        "xco=x['code'].value_counts()\n",
        "xco2=x2['code'].value_counts()\n",
        "xco3=x3['code'].value_counts()\n",
        "xco4=x4['code'].value_counts()\n",
        "xcoo=xco.combine(xco2, max, fill_value=0)\n",
        "xcoo=xcoo.combine(xco3, max, fill_value=0)\n",
        "xcoo=xcoo.combine(xco4, max, fill_value=0)\n",
        "xcoo.to_csv('Covid_pats_common_codes.csv')"
      ],
      "execution_count": null,
      "outputs": []
    },
    {
      "cell_type": "markdown",
      "metadata": {
        "id": "hLB3a2_xPFV9"
      },
      "source": [
        "Now I will use the the terminology.csv to create two csvs one that show the most common codes for the whole dataset and one for just the Covid patients."
      ]
    },
    {
      "cell_type": "code",
      "metadata": {
        "id": "VJh0HfFvOIM3"
      },
      "source": [
        "icd10cm=pd.read_csv('ICD10_Codes.csv')\n",
        "icd9cm=pd.read_csv('ICD9_Codes.csv')\n",
        "cco=xcoo.index.tolist()\n",
        "\n",
        "ctow={}\n",
        "for i in range(200):\n",
        "    x=icd10cm[icd10cm['code'].str.contains(cco[i])]\n",
        "    a=icd9cm[icd9cm['code'].str.contains(cco[i])]\n",
        "    if len(x)==1:\n",
        "        y=x['code_description'].tolist()\n",
        "        ctow.update({cco[i]:y})\n",
        "    if len(a)==1:\n",
        "        b=a['code_description'].tolist()\n",
        "        ctow.update({cco[i]:b})\n",
        "\n",
        "s=pd.Series(ctow)\n",
        "s.to_csv('200_Common_Codes_Covid_pats.csv')\n",
        "\n",
        "cco=sum_column.index.tolist()\n",
        "\n",
        "ctow={}\n",
        "for i in range(200):\n",
        "    x=icd10cm[icd10cm['code'].str.contains(cco[i])]\n",
        "    a=icd9cm[icd9cm['code'].str.contains(cco[i])]\n",
        "    if len(x)==1:\n",
        "        y=x['code_description'].tolist()\n",
        "        ctow.update({cco[i]:y})\n",
        "    if len(a)==1:\n",
        "        b=a['code_description'].tolist()\n",
        "        ctow.update({cco[i]:b})\n",
        "\n",
        "s=pd.Series(ctow)\n",
        "s.to_csv('200_Common_Codes.csv')"
      ],
      "execution_count": null,
      "outputs": []
    },
    {
      "cell_type": "code",
      "metadata": {
        "id": "P8SVsuvIOIVo"
      },
      "source": [
        ""
      ],
      "execution_count": null,
      "outputs": []
    },
    {
      "cell_type": "code",
      "metadata": {
        "id": "5V5uazWOOIfU"
      },
      "source": [
        ""
      ],
      "execution_count": null,
      "outputs": []
    },
    {
      "cell_type": "markdown",
      "metadata": {
        "id": "1y9LZv0kBPmb"
      },
      "source": [
        "# Cleaning the Medication CSV"
      ]
    },
    {
      "cell_type": "code",
      "metadata": {
        "id": "hWzrKpauGLPZ"
      },
      "source": [
        "import matplotlib\n",
        "import numpy as np\n",
        "import matplotlib.pyplot as plt\n",
        "import pandas as pd"
      ],
      "execution_count": null,
      "outputs": []
    },
    {
      "cell_type": "markdown",
      "metadata": {
        "id": "enBJ7ArDGY-P"
      },
      "source": [
        "Import patient IDs of Covid patients"
      ]
    },
    {
      "cell_type": "code",
      "metadata": {
        "id": "_tuFEoWaGTRm"
      },
      "source": [
        "df_PID = pd.read_csv(r'Covid_patients.csv')\n",
        "PID = df_PID['patient_id'].tolist()\n",
        "print(PID[:10])"
      ],
      "execution_count": null,
      "outputs": []
    },
    {
      "cell_type": "markdown",
      "metadata": {
        "id": "yf9S56VTGi91"
      },
      "source": [
        "Break the medication csv (~114 GB) into 88 chunks of 10 million rows (each csv is ~1.3 GB) "
      ]
    },
    {
      "cell_type": "code",
      "metadata": {
        "id": "K-fSvdQhJhJl"
      },
      "source": [
        "chunk_size = 10 ** 7\n",
        "batch_no = 1\n",
        "\n",
        "for chunk in pd.read_csv(r'E:\\.vscode\\chunks\\chunk1.csv',chunksize=chunk_size):\n",
        "    chunk.to_csv('chunk1'+str(batch_no)+'.csv',index=False)\n",
        "    batch_no+=1"
      ],
      "execution_count": null,
      "outputs": []
    },
    {
      "cell_type": "markdown",
      "metadata": {
        "id": "apuJ_OpWKF2m"
      },
      "source": [
        "Import first chunk in order to initialize pre and postcovid medication datasets"
      ]
    },
    {
      "cell_type": "code",
      "metadata": {
        "id": "kBKmUXilP-tr"
      },
      "source": [
        "df = pd.read_csv(r'/chunks/chunk1.csv', low_memory = False)\n",
        "print('prePID shape:',df.shape)"
      ],
      "execution_count": null,
      "outputs": []
    },
    {
      "cell_type": "markdown",
      "metadata": {
        "id": "2CElzJ92QCsx"
      },
      "source": [
        "Trimming the dataframe"
      ]
    },
    {
      "cell_type": "code",
      "metadata": {
        "id": "7lCW7l45QaLJ"
      },
      "source": [
        "# Remove rows with Unknown value\n",
        "df = df[df.ne('Unknown').all(axis=1)]\n",
        "\n",
        "#drop encoutner_id \n",
        "df = df.drop(\"encounter_id\", axis = 1)\n",
        "\n",
        "#Drop trinetx column\n",
        "df = df.drop(\"derived_by_TriNetX\", axis = 1)\n",
        "\n",
        "#Drop NaN values\n",
        "df = df.dropna()\n",
        "\n",
        "#Drop duplicate rows\n",
        "df = df.drop_duplicates()"
      ],
      "execution_count": null,
      "outputs": []
    },
    {
      "cell_type": "markdown",
      "metadata": {
        "id": "EM5MR42RlxCo"
      },
      "source": [
        "Create covid and non-covid medication datasets"
      ]
    },
    {
      "cell_type": "code",
      "metadata": {
        "id": "vvtQQWYymP4z"
      },
      "source": [
        "#post covid patient dataframe\n",
        "df_c = df[df['patient_id'].isin(PID)]\n",
        "\n",
        "#pre covid patient dataframe\n",
        "df_ = df[~df['patient_id'].isin(PID)]\n",
        "print('postPID shape:',df_c.shape,df_.shape)"
      ],
      "execution_count": null,
      "outputs": []
    },
    {
      "cell_type": "markdown",
      "metadata": {
        "id": "xQQdLnMYnnJ5"
      },
      "source": [
        "Create new dataframes that had value counts for the medication codes"
      ]
    },
    {
      "cell_type": "code",
      "metadata": {
        "id": "ytJjK1ton7DU"
      },
      "source": [
        "med_c = df_c['code'].value_counts().rename_axis('code').reset_index(name='counts')\n",
        "med_ = df_['code'].value_counts().rename_axis('code').reset_index(name='counts')\n",
        "\n",
        "med_c.head(),med_0.head()"
      ],
      "execution_count": null,
      "outputs": []
    },
    {
      "cell_type": "markdown",
      "metadata": {
        "id": "DZ1fdkA3oDa1"
      },
      "source": [
        "Now that both dataframes have be inititated, the rest of the medication chunks will be added in the same process."
      ]
    },
    {
      "cell_type": "code",
      "metadata": {
        "id": "wsVRGpGeoSHa"
      },
      "source": [
        "for i in range(2,88):\n",
        "    df = pd.read_csv(r'chunk'+str(i)+'.csv', low_memory = False)\n",
        "    \n",
        "    #Remove duplicate rows\n",
        "    df = df.drop_duplicates()\n",
        "\n",
        "    #Drop NaN values\n",
        "    df = df.dropna()\n",
        "\n",
        "    # Remove rows with Unknown value\n",
        "    df = df[df.ne('Unknown').all(axis=1)]\n",
        "\n",
        "    #Drop encounter id column\n",
        "    df = df.drop(columns=['encounter_id'])\n",
        "\n",
        "    #Drop TriNetX column\n",
        "    df = df.drop(columns=['derived_by_TriNetX'])\n",
        "    \n",
        "    #Create dataframe with covid and non covid\n",
        "    dfc = df[df['patient_id'].isin(PID)]\n",
        "    df0 = df[~df['patient_id'].isin(PID)]\n",
        "    \n",
        "    #Create new dataframe with code counts\n",
        "    add_c = dfc['code'].value_counts().rename_axis('code').reset_index(name='counts')\n",
        "    add_0 = df0['code'].value_counts().rename_axis('code').reset_index(name='counts')\n",
        "    \n",
        "    #Add code count dataframe to existing one\n",
        "    med_c = med_c.set_index('code').add(add_c.set_index('code'), fill_value=0).reset_index()\n",
        "    med_ = med_.set_index('code').add(add_0.set_index('code'), fill_value=0).reset_index()\n",
        "    \n",
        "    #Sort by descending count\n",
        "    med_c = med_c.sort_values(by = ['counts'], ascending = False)\n",
        "    med_ = med_.sort_values(by = ['counts'], ascending = False)\n",
        "    \n",
        "med_c.head(200),med_.head(200)"
      ],
      "execution_count": null,
      "outputs": []
    },
    {
      "cell_type": "markdown",
      "metadata": {
        "id": "-7MEDw3woq1d"
      },
      "source": [
        "Pull 200 most common codes and write the two dataframes to corresponding csv files"
      ]
    },
    {
      "cell_type": "code",
      "metadata": {
        "id": "10hUPQFJovhq"
      },
      "source": [
        "med200_c = med_c.head(200)\n",
        "med200_ = med_.head(200)\n",
        "\n",
        "med200_c.to_csv(r'post COVID 200 meds.csv')\n",
        "med200_.to_csv(r'pre COVID 200 meds.csv')"
      ],
      "execution_count": null,
      "outputs": []
    },
    {
      "cell_type": "markdown",
      "metadata": {
        "id": "jq7URMiUZgp9"
      },
      "source": [
        "Create csv file containing "
      ]
    },
    {
      "cell_type": "markdown",
      "metadata": {
        "id": "LLqZfctFaRiF"
      },
      "source": [
        "# Creating Boolean Array for Medication Codes"
      ]
    },
    {
      "cell_type": "markdown",
      "metadata": {
        "id": "Q2U-JNt5adAn"
      },
      "source": [
        "A csv file is prepared for boolean array creation in a similar process below"
      ]
    },
    {
      "cell_type": "markdown",
      "metadata": {
        "id": "2lPErwhsbQRA"
      },
      "source": [
        "Initialize a csv file with patient_id and medication codes"
      ]
    },
    {
      "cell_type": "code",
      "metadata": {
        "id": "7NoD365cao0l"
      },
      "source": [
        "df_c.shape\n",
        "\n",
        "df_c = df_c[['patient_id','code']]\n",
        "\n",
        "df_c = df_c.drop_duplicates()"
      ],
      "execution_count": null,
      "outputs": []
    },
    {
      "cell_type": "code",
      "metadata": {
        "id": "cRLlL2RfayDL"
      },
      "source": [
        "df_c.to_csv(r'med_covid.csv', index = False)"
      ],
      "execution_count": null,
      "outputs": []
    },
    {
      "cell_type": "code",
      "metadata": {
        "id": "WkyOMKEIa5Uw"
      },
      "source": [
        "for i in range(2,88):\n",
        "    df = pd.read_csv(r'/chunks/chunk'+str(i)+'.csv', low_memory = False)\n",
        "    \n",
        "    df = df[['patient_id','code']]\n",
        "\n",
        "    df = df.drop_duplicates()\n",
        "    \n",
        "    #Create dataframe with 14 day covid\n",
        "    dfc = df[df['patient_id'].isin(PID)]\n",
        "    \n",
        "    dfc.to_csv(r'med_covid.csv', mode='a', header=False, index = False)"
      ],
      "execution_count": null,
      "outputs": []
    },
    {
      "cell_type": "markdown",
      "metadata": {
        "id": "YrHbxaZLbhwR"
      },
      "source": [
        "Use the med_covid csv file in place of the post_covid.csv for medicaiton boolean array creation"
      ]
    },
    {
      "cell_type": "markdown",
      "metadata": {
        "id": "zEpByqcaH0MI"
      },
      "source": [
        "##Creating Boolean Array for Diagnosis Codes\n",
        "In order to facilitate future clustering, a boolean array of diagnosis codes was created. For each patient, a set of 200 columns was created with a 0 representing the absence of the code and a 1 reprsenting the precences of the code.  "
      ]
    },
    {
      "cell_type": "code",
      "metadata": {
        "id": "VOfJovO9IShc"
      },
      "source": [
        "#read in the patient data\n",
        "patients_df = pd.read_csv('post_covid.csv')\n",
        "patients_df"
      ],
      "execution_count": null,
      "outputs": []
    },
    {
      "cell_type": "code",
      "metadata": {
        "id": "HrRngeueISu9"
      },
      "source": [
        "#drop columns that won't be used\n",
        "df2 = patients_df.drop(columns=['encounter_id', 'derived_by_TriNetX'])"
      ],
      "execution_count": null,
      "outputs": []
    },
    {
      "cell_type": "code",
      "metadata": {
        "id": "Cn5ss1h8IS0z"
      },
      "source": [
        "#create groupby object grouped by PID\n",
        "code_list = df2.groupby('patient_id')['code']\n",
        "code_list"
      ],
      "execution_count": null,
      "outputs": []
    },
    {
      "cell_type": "code",
      "metadata": {
        "id": "7Z0luKUEIS5s"
      },
      "source": [
        "#create empty list to add PID and diagnosis codes to\n",
        "list1 = []"
      ],
      "execution_count": null,
      "outputs": []
    },
    {
      "cell_type": "code",
      "metadata": {
        "id": "u34_JnurIS9e"
      },
      "source": [
        "#loop that adds each x from groupby object to list1\n",
        "for x in code_list:\n",
        "    list1.append(x)"
      ],
      "execution_count": null,
      "outputs": []
    },
    {
      "cell_type": "code",
      "metadata": {
        "id": "MHS8I5sJKY7l"
      },
      "source": [
        "#convert tuples in list1 to list\n",
        "list2 = []\n",
        "for tup in list1:\n",
        "    x = list(tup)\n",
        "    list2.append(x)"
      ],
      "execution_count": null,
      "outputs": []
    },
    {
      "cell_type": "code",
      "metadata": {
        "id": "3vU9k0R-KZF_"
      },
      "source": [
        "#read in data from top covid codes into df\n",
        "top_codes_df = pd.read_csv('200_Common_Codes_Covid_pats.csv')\n",
        "top_codes_df"
      ],
      "execution_count": null,
      "outputs": []
    },
    {
      "cell_type": "code",
      "metadata": {
        "id": "ZoDyZUu3KZPv"
      },
      "source": [
        "#rename columns so more readable\n",
        "top_codes_df.rename( columns={'Unnamed: 0':'Code'}, inplace=True )"
      ],
      "execution_count": null,
      "outputs": []
    },
    {
      "cell_type": "code",
      "metadata": {
        "id": "bDrOur66KZaC"
      },
      "source": [
        "res = ['patient_id']\n",
        "for i in list(top_codes_df['Code']):\n",
        "    res.append(i)"
      ],
      "execution_count": null,
      "outputs": []
    },
    {
      "cell_type": "code",
      "metadata": {
        "id": "yjdFKlM6KkQy"
      },
      "source": [
        "#create master_df\n",
        "#create df with all pid and dx\n",
        "master_df = pd.DataFrame(columns = res)\n",
        "master_df"
      ],
      "execution_count": null,
      "outputs": []
    },
    {
      "cell_type": "code",
      "metadata": {
        "id": "P6HjVVJbKkbV"
      },
      "source": [
        "#create a function that returns PID and boolean array\n",
        "def get_array(master, check, patient_ID):\n",
        "    bool_list = [patient_ID]\n",
        "    for i in master:\n",
        "        if i in check:\n",
        "            bool_list.append(1)\n",
        "        else:\n",
        "            bool_list.append(0)\n",
        "    return bool_list \n",
        "\n",
        "#function to create new row as df\n",
        "def add_row(row, df):\n",
        "    df_header = list(df.columns)\n",
        "    row_to_add = pd.DataFrame([row], columns=res)\n",
        "    return row_to_add"
      ],
      "execution_count": null,
      "outputs": []
    },
    {
      "cell_type": "code",
      "metadata": {
        "id": "ClBgk7uJKkpU"
      },
      "source": [
        "#loop through all pid and dx in list2 and create boolean array\n",
        "for count, patient in enumerate(list2):\n",
        "    print(str(count/(len(list2))) + 'percent done')\n",
        "    master = list(top_codes_df['Code'])\n",
        "    check = list(list2[count][1])\n",
        "    patient_ID = (list2[count][0])\n",
        "    x = get_array(master, check, patient_ID)\n",
        "    y = add_row(x, master_df)\n",
        "    master_df = master_df.append(y, ignore_index=True)"
      ],
      "execution_count": null,
      "outputs": []
    },
    {
      "cell_type": "code",
      "metadata": {
        "id": "y9PvhC6DKk2q"
      },
      "source": [
        "#read in demographic data from csv file\n",
        "demo_df = pd.read_csv('master.csv')"
      ],
      "execution_count": null,
      "outputs": []
    },
    {
      "cell_type": "code",
      "metadata": {
        "id": "5l4AXdnMLAIu"
      },
      "source": [
        "#merge demo info with boolean array\n",
        "cluster_df = master_df.merge(demo_df, how='left', on='patient_id')"
      ],
      "execution_count": null,
      "outputs": []
    },
    {
      "cell_type": "code",
      "metadata": {
        "id": "AVZG5n-hLH4g"
      },
      "source": [
        "#save to csv\n",
        "cluster_df.to_csv (r'cluster_with_demographics_postCOVID.csv', index = False, header=True)"
      ],
      "execution_count": null,
      "outputs": []
    },
    {
      "cell_type": "markdown",
      "metadata": {
        "id": "P56sKPjgQQPC"
      },
      "source": [
        "##Dendrogram"
      ]
    },
    {
      "cell_type": "code",
      "metadata": {
        "id": "-gCa2hpRZwsl"
      },
      "source": [
        "#read in approraite data - in this case the post COVID diganosis boolean array from the last section \n",
        "df = pd.read_csv('cluster_with_demographics_postCOVID.csv')"
      ],
      "execution_count": null,
      "outputs": []
    },
    {
      "cell_type": "code",
      "metadata": {
        "id": "ZZJB8cxdZ12p"
      },
      "source": [
        "#clean up df\n",
        "df2 = df.drop(['age_at_death', 'encounter_id','lab_result_text_val'], axis=1)\n",
        "df2.rename( columns={'date':'date_of_coivd_dx'}, inplace=True )"
      ],
      "execution_count": null,
      "outputs": []
    },
    {
      "cell_type": "code",
      "metadata": {
        "id": "acUWuW6nZ2A4"
      },
      "source": [
        "#create dummy data to cluster\n",
        "dummy = pd.get_dummies(df2[['sex','race']])\n",
        "dummy"
      ],
      "execution_count": null,
      "outputs": []
    },
    {
      "cell_type": "code",
      "metadata": {
        "id": "QBcFaEcwZ2Ox"
      },
      "source": [
        "#read in top codes csv to use \n",
        "top_codes_df = pd.read_csv('200_Common_Codes_Covid_pats.csv')\n",
        "codes = df2[(list(top_codes_df['Unnamed: 0']))]"
      ],
      "execution_count": null,
      "outputs": []
    },
    {
      "cell_type": "code",
      "metadata": {
        "id": "cUHG_1IxaVgA"
      },
      "source": [
        "#organzie and clean df for clustering - cluster_df3 will be used for clustering\n",
        "cluster_df = pd.concat([codes, dummy], axis=1)\n",
        "cluster_df2 = pd.concat([cluster_df, df2['year_of_birth']], axis=1)\n",
        "cluster_df3 = cluster_df2.dropna()"
      ],
      "execution_count": null,
      "outputs": []
    },
    {
      "cell_type": "code",
      "metadata": {
        "id": "DLaCumNQZ2Y3"
      },
      "source": [
        "#code for hieraracal clustering process\n",
        "from sklearn.preprocessing import normalize\n",
        "X_scaled = normalize(cluster_df3.values) "
      ],
      "execution_count": null,
      "outputs": []
    },
    {
      "cell_type": "code",
      "metadata": {
        "id": "d3fPORQyaau2"
      },
      "source": [
        "X_scaled = pd.DataFrame(X_scaled, columns=cluster_df3.keys())"
      ],
      "execution_count": null,
      "outputs": []
    },
    {
      "cell_type": "code",
      "metadata": {
        "id": "V22j2UUvad3r"
      },
      "source": [
        "#create dendrogram to find approraitate number of clusters\n",
        "import scipy.cluster.hierarchy as shc\n",
        "plt.figure(figsize=(10, 7))  \n",
        "plt.title(\"Dendrograms\")  \n",
        "dend = shc.dendrogram(shc.linkage(X_scaled, method='ward'))"
      ],
      "execution_count": null,
      "outputs": []
    }
  ]
}