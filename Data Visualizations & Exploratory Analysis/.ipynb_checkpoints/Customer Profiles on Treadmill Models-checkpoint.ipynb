{
 "cells": [
  {
   "cell_type": "markdown",
   "metadata": {},
   "source": [
    "# Customer Profiles on Treadmill Models"
   ]
  },
  {
   "cell_type": "markdown",
   "metadata": {},
   "source": [
    "[A. Data Set Information](#A.-Data-Set-Information)\n",
    "\n",
    "[1. Imported Packages and Data](#1.-Imported-Packages-and-Data)\n",
    "\n",
    "[2. Examine Data Set](#2.-Examine-Data-Set)\n",
    "\n",
    "[3. Univariate Analysis](#3.-Univariate-Analysis)\n",
    "\n",
    "[4. Bivariate Analysis](#4.-Bivariate-Analysis)\n",
    "\n",
    "[5. Multivariate Analysis](#5.-Multivariate-Analysis)\n",
    "\n",
    "[6. Discussion](#6.-Discussion)"
   ]
  },
  {
   "cell_type": "markdown",
   "metadata": {},
   "source": [
    "# A. Data Set Information\n"
   ]
  },
  {
   "cell_type": "markdown",
   "metadata": {},
   "source": [
    "Columns:\n",
    "1. Product, treadmill model\n",
    "2. Age, in years\n",
    "3. Gender\n",
    "4. Education, in years\n",
    "5. MaritalStatus, single or partnered\n",
    "6. Usage, average number of times customer plans to use the treadmill each week\n",
    "7. Fitness, self-rated fitness 1-to-5 scale, 1 is poor, 5 is excellent shape\n",
    "8. Income, US dollars\n",
    "9. Miles, average number of miles customer expects to travel each week"
   ]
  },
  {
   "cell_type": "markdown",
   "metadata": {},
   "source": [
    "## 1. Imported Packages and Data"
   ]
  },
  {
   "cell_type": "markdown",
   "metadata": {},
   "source": [
    "#### 1.1 Packages"
   ]
  },
  {
   "cell_type": "code",
   "execution_count": 1,
   "metadata": {},
   "outputs": [
    {
     "ename": "ModuleNotFoundError",
     "evalue": "No module named 'CGF_functions'",
     "output_type": "error",
     "traceback": [
      "\u001b[1;31m---------------------------------------------------------------------------\u001b[0m",
      "\u001b[1;31mModuleNotFoundError\u001b[0m                       Traceback (most recent call last)",
      "\u001b[1;32m<ipython-input-1-55b89d35df50>\u001b[0m in \u001b[0;36m<module>\u001b[1;34m\u001b[0m\n\u001b[0;32m     10\u001b[0m \u001b[0mwarnings\u001b[0m\u001b[1;33m.\u001b[0m\u001b[0mfilterwarnings\u001b[0m\u001b[1;33m(\u001b[0m\u001b[1;34m'ignore'\u001b[0m\u001b[1;33m)\u001b[0m\u001b[1;33m\u001b[0m\u001b[1;33m\u001b[0m\u001b[0m\n\u001b[0;32m     11\u001b[0m \u001b[1;33m\u001b[0m\u001b[0m\n\u001b[1;32m---> 12\u001b[1;33m \u001b[1;32mfrom\u001b[0m \u001b[0mCGF_functions\u001b[0m \u001b[1;32mimport\u001b[0m \u001b[1;33m*\u001b[0m\u001b[1;33m\u001b[0m\u001b[1;33m\u001b[0m\u001b[0m\n\u001b[0m\u001b[0;32m     13\u001b[0m \u001b[1;33m\u001b[0m\u001b[0m\n\u001b[0;32m     14\u001b[0m \u001b[1;32mdef\u001b[0m \u001b[0mcol_stats\u001b[0m\u001b[1;33m(\u001b[0m\u001b[0mvalue\u001b[0m\u001b[1;33m,\u001b[0m\u001b[0mindex\u001b[0m\u001b[1;33m)\u001b[0m\u001b[1;33m:\u001b[0m\u001b[1;33m\u001b[0m\u001b[1;33m\u001b[0m\u001b[0m\n",
      "\u001b[1;31mModuleNotFoundError\u001b[0m: No module named 'CGF_functions'"
     ]
    }
   ],
   "source": [
    "import pandas as pd\n",
    "import numpy as np\n",
    "\n",
    "import matplotlib.pyplot as plt \n",
    "\n",
    "import seaborn as sns\n",
    "sns.set_palette(\"colorblind\")\n",
    "\n",
    "import warnings\n",
    "warnings.filterwarnings('ignore')\n",
    "\n",
    "from CGF_functions import *\n",
    "\n",
    "def col_stats(value,index):\n",
    "    #Input value of interest to get descriptive stats\n",
    "    #input column for needed stats, as string\n",
    "    \n",
    "    return pd.pivot_table(CGF_df,values=[value], index=[index],aggfunc={str(value):[np.mean,min,max,np.median]})"
   ]
  },
  {
   "cell_type": "markdown",
   "metadata": {},
   "source": [
    "#### 1.2 Treadmill customer data"
   ]
  },
  {
   "cell_type": "code",
   "execution_count": null,
   "metadata": {},
   "outputs": [],
   "source": [
    "CGF_df = pd.read_csv(\"CardioGoodFitness.csv\")"
   ]
  },
  {
   "cell_type": "markdown",
   "metadata": {},
   "source": [
    "## 2. Examine Data Set"
   ]
  },
  {
   "cell_type": "markdown",
   "metadata": {},
   "source": [
    "#### 2.1 First 5 rows of treadmill data set"
   ]
  },
  {
   "cell_type": "code",
   "execution_count": null,
   "metadata": {},
   "outputs": [],
   "source": [
    "CGF_df.head()"
   ]
  },
  {
   "cell_type": "markdown",
   "metadata": {},
   "source": [
    "#### 2.2 Check for missing values"
   ]
  },
  {
   "cell_type": "code",
   "execution_count": null,
   "metadata": {},
   "outputs": [],
   "source": [
    "CGF_df.isna().any()"
   ]
  },
  {
   "cell_type": "markdown",
   "metadata": {},
   "source": [
    "#### 2.3 Check data types"
   ]
  },
  {
   "cell_type": "code",
   "execution_count": null,
   "metadata": {},
   "outputs": [],
   "source": [
    "CGF_df.info()"
   ]
  },
  {
   "cell_type": "markdown",
   "metadata": {},
   "source": [
    "#### 2.4 Check data set size"
   ]
  },
  {
   "cell_type": "code",
   "execution_count": null,
   "metadata": {},
   "outputs": [],
   "source": [
    "CGF_df.shape"
   ]
  },
  {
   "cell_type": "markdown",
   "metadata": {},
   "source": [
    "- Data set has 180 rows, 9 columns"
   ]
  },
  {
   "cell_type": "markdown",
   "metadata": {},
   "source": [
    "#### 2.5 Split data set by model for future analysis"
   ]
  },
  {
   "cell_type": "code",
   "execution_count": null,
   "metadata": {},
   "outputs": [],
   "source": [
    "CGF_195 = CGF_df[CGF_df[\"Product\"] == \"TM195\"]\n",
    "CGF_498 = CGF_df[CGF_df[\"Product\"] == \"TM498\"]\n",
    "CGF_798 = CGF_df[CGF_df[\"Product\"] == \"TM798\"]\n",
    "\n",
    "CGF_list = [CGF_195,CGF_498,CGF_798]"
   ]
  },
  {
   "cell_type": "markdown",
   "metadata": {},
   "source": [
    "## 3. Univariate Analysis"
   ]
  },
  {
   "cell_type": "markdown",
   "metadata": {},
   "source": [
    "#### 3.1 Summary statistics of all customers"
   ]
  },
  {
   "cell_type": "code",
   "execution_count": null,
   "metadata": {},
   "outputs": [],
   "source": [
    "CGF_df.describe(include='all')"
   ]
  },
  {
   "cell_type": "markdown",
   "metadata": {},
   "source": [
    "- Income\n",
    "    - Mean income is around 54k, median income is around 51k\n",
    "    - Max reported income is just over 100k\n",
    "    \n",
    "- Age\n",
    "    - Customer age ranges from 18-50 years old \n",
    "    - Mean and median age is 28.79 and 26, respecitively \n",
    "\n",
    "- Education\n",
    "    - Customer education ranges from 12-21 years old\n",
    "    - Mean and median education is 15.57 and 16, respectively\n",
    "\n",
    "- Usage\n",
    "    - Expected usage is around 3 times a week\n",
    "\n",
    "- Miles\n",
    "    - Mean expected miles traveled is around 103.19 miles, median is 94 miels"
   ]
  },
  {
   "cell_type": "markdown",
   "metadata": {},
   "source": [
    "#### 3.1 Which treadmill models have been sold?"
   ]
  },
  {
   "cell_type": "code",
   "execution_count": null,
   "metadata": {},
   "outputs": [],
   "source": [
    "models_df = CGF_df[\"Product\"].value_counts()\n",
    "models_df"
   ]
  },
  {
   "cell_type": "markdown",
   "metadata": {},
   "source": [
    "<b> 3.2 What is the model composition of our sales? </b>"
   ]
  },
  {
   "cell_type": "code",
   "execution_count": null,
   "metadata": {},
   "outputs": [],
   "source": [
    "models_df.plot.pie(autopct='%.1f%%',figsize=(8,8),explode=[0.03]*3)\n",
    "plt.title(\"Treadmill Model Composition\")"
   ]
  },
  {
   "cell_type": "markdown",
   "metadata": {},
   "source": [
    "- Treadmill TM195 is the highest selling model, composing of 44.4% of sales\n",
    "- Treadmill Tm798 is the lowest selling mode, composing of 22.2% of sales"
   ]
  },
  {
   "cell_type": "markdown",
   "metadata": {},
   "source": [
    "<b> 3.3 Which gender bought more treadmills? </b>"
   ]
  },
  {
   "cell_type": "code",
   "execution_count": null,
   "metadata": {},
   "outputs": [],
   "source": [
    "gender_df = CGF_df[\"Gender\"].value_counts()"
   ]
  },
  {
   "cell_type": "code",
   "execution_count": null,
   "metadata": {},
   "outputs": [],
   "source": [
    "gender_df.plot.pie(autopct='%.1f%%',figsize=(8,8),explode=[0.03]*2)\n",
    "plt.title(\"Treadmill Gender Composition\")"
   ]
  },
  {
   "cell_type": "markdown",
   "metadata": {},
   "source": [
    "<b> 3.4 Did partnered or single people buy more treadmills? </b>"
   ]
  },
  {
   "cell_type": "code",
   "execution_count": null,
   "metadata": {},
   "outputs": [],
   "source": [
    "partner_df = CGF_df[\"MaritalStatus\"].value_counts()"
   ]
  },
  {
   "cell_type": "code",
   "execution_count": null,
   "metadata": {},
   "outputs": [],
   "source": [
    "partner_df.plot.pie(autopct='%.1f%%',figsize=(8,8),explode=[0.03]*2)\n",
    "plt.title(\"Treadmill Marital Status Composition\")"
   ]
  },
  {
   "cell_type": "markdown",
   "metadata": {},
   "source": [
    "<b>3.5 Distribution of continuous data groups</b>"
   ]
  },
  {
   "cell_type": "code",
   "execution_count": null,
   "metadata": {},
   "outputs": [],
   "source": [
    "CGF_df.hist(figsize=(25,25))"
   ]
  },
  {
   "cell_type": "markdown",
   "metadata": {},
   "source": [
    "## 4. Bivariate Analysis"
   ]
  },
  {
   "cell_type": "markdown",
   "metadata": {},
   "source": [
    "<b> 4.1 Product purchases by gender </b>"
   ]
  },
  {
   "cell_type": "code",
   "execution_count": null,
   "metadata": {},
   "outputs": [],
   "source": [
    "sns.countplot(x='Gender',hue=\"Product\",data=CGF_df)"
   ]
  },
  {
   "cell_type": "markdown",
   "metadata": {},
   "source": [
    "- Female purchasing TM798 is much lower than males"
   ]
  },
  {
   "cell_type": "code",
   "execution_count": null,
   "metadata": {},
   "outputs": [],
   "source": [
    "sns.countplot(x='MaritalStatus',hue=\"Product\",data=CGF_df)"
   ]
  },
  {
   "cell_type": "markdown",
   "metadata": {},
   "source": [
    "<b> 4.2 Age distribution by gender </b>"
   ]
  },
  {
   "cell_type": "code",
   "execution_count": null,
   "metadata": {
    "scrolled": true
   },
   "outputs": [],
   "source": [
    "sns.violinplot(x=\"Gender\",y=\"Age\", data=CGF_df)"
   ]
  },
  {
   "cell_type": "markdown",
   "metadata": {},
   "source": [
    "<b> 4.3 Age distribution by model </b>"
   ]
  },
  {
   "cell_type": "code",
   "execution_count": null,
   "metadata": {},
   "outputs": [],
   "source": [
    "sns.histplot(CGF_df, x=\"Age\", hue=\"Product\", element = \"step\",multiple=\"stack\")\n",
    "\n",
    "plt.title('Age distributions for each Treadmill Model')"
   ]
  },
  {
   "cell_type": "code",
   "execution_count": null,
   "metadata": {
    "scrolled": true
   },
   "outputs": [],
   "source": [
    "sns.violinplot(x=\"Product\",y=\"Age\", data=CGF_df)"
   ]
  },
  {
   "cell_type": "code",
   "execution_count": null,
   "metadata": {},
   "outputs": [],
   "source": [
    "col_stats(\"Age\",\"Product\")"
   ]
  },
  {
   "cell_type": "markdown",
   "metadata": {},
   "source": [
    "<b> 4.4 Years of education distribution by model </b>"
   ]
  },
  {
   "cell_type": "code",
   "execution_count": null,
   "metadata": {},
   "outputs": [],
   "source": [
    "sns.violinplot(x=\"Product\",y=\"Education\", data=CGF_df)"
   ]
  },
  {
   "cell_type": "code",
   "execution_count": null,
   "metadata": {},
   "outputs": [],
   "source": [
    "col_stats(\"Education\",\"Product\")"
   ]
  },
  {
   "cell_type": "markdown",
   "metadata": {},
   "source": [
    "<b> 4.5 Income distribution by model </b>"
   ]
  },
  {
   "cell_type": "code",
   "execution_count": null,
   "metadata": {},
   "outputs": [],
   "source": [
    "sns.violinplot(x=\"Product\",y=\"Income\", data=CGF_df)"
   ]
  },
  {
   "cell_type": "code",
   "execution_count": null,
   "metadata": {},
   "outputs": [],
   "source": [
    "col_stats(\"Income\",\"Product\")"
   ]
  },
  {
   "cell_type": "markdown",
   "metadata": {},
   "source": [
    "<b> 4.6 Expected miles traveled distribution by model </b>"
   ]
  },
  {
   "cell_type": "code",
   "execution_count": null,
   "metadata": {
    "scrolled": true
   },
   "outputs": [],
   "source": [
    "sns.violinplot(x=\"Product\",y=\"Miles\", data=CGF_df)"
   ]
  },
  {
   "cell_type": "code",
   "execution_count": null,
   "metadata": {},
   "outputs": [],
   "source": [
    "col_stats(\"Miles\",\"Product\")"
   ]
  },
  {
   "cell_type": "markdown",
   "metadata": {},
   "source": [
    "<b> 4.7 Expected weekly usage distribution by model </b>"
   ]
  },
  {
   "cell_type": "code",
   "execution_count": null,
   "metadata": {},
   "outputs": [],
   "source": [
    "sns.violinplot(x=\"Product\",y=\"Usage\", data=CGF_df)"
   ]
  },
  {
   "cell_type": "code",
   "execution_count": null,
   "metadata": {},
   "outputs": [],
   "source": [
    "col_stats(\"Usage\",\"Product\")"
   ]
  },
  {
   "cell_type": "markdown",
   "metadata": {},
   "source": [
    "<b>4.8 Self-rated fitness distribution by model"
   ]
  },
  {
   "cell_type": "code",
   "execution_count": null,
   "metadata": {},
   "outputs": [],
   "source": [
    "sns.violinplot(x=\"Product\",y=\"Fitness\", data=CGF_df)"
   ]
  },
  {
   "cell_type": "code",
   "execution_count": null,
   "metadata": {},
   "outputs": [],
   "source": [
    "col_stats(\"Fitness\",\"Product\")"
   ]
  },
  {
   "cell_type": "markdown",
   "metadata": {},
   "source": [
    "- TM798 is favored by customers of many different characteristics:\n",
    "    - higher education\n",
    "    - higher income\n",
    "    - higher expected miles traveled\n",
    "    - higher expected weekly usage\n",
    "    - higher self fitness rating"
   ]
  },
  {
   "cell_type": "markdown",
   "metadata": {},
   "source": [
    "## 5. Multivariate Analysis"
   ]
  },
  {
   "cell_type": "markdown",
   "metadata": {},
   "source": [
    "#### 5.1 Heatmap"
   ]
  },
  {
   "cell_type": "code",
   "execution_count": null,
   "metadata": {},
   "outputs": [],
   "source": [
    "matrix = np.triu(CGF_df.corr())\n",
    "sns.heatmap(CGF_df.corr(),annot=True,vmin=-1,vmax=1,center=0,linewidths=2,mask=matrix)"
   ]
  },
  {
   "cell_type": "markdown",
   "metadata": {},
   "source": [
    "#### 5.2 Swarm plot of fitness, miles, and product"
   ]
  },
  {
   "cell_type": "code",
   "execution_count": null,
   "metadata": {},
   "outputs": [],
   "source": [
    "sns.swarmplot(data=CGF_df,x='Fitness',y='Miles',hue='Product')"
   ]
  },
  {
   "cell_type": "markdown",
   "metadata": {},
   "source": [
    "Customers with higher expected miles and self fitness rating favored model TM798"
   ]
  },
  {
   "cell_type": "markdown",
   "metadata": {},
   "source": [
    "#### 5.3 Swarm plot of education, income, and product"
   ]
  },
  {
   "cell_type": "code",
   "execution_count": null,
   "metadata": {},
   "outputs": [],
   "source": [
    "sns.swarmplot(data=CGF_df,x='Education',y='Income',hue='Product')"
   ]
  },
  {
   "cell_type": "markdown",
   "metadata": {},
   "source": [
    "Customers with higher education and income favored model TM798 as well"
   ]
  },
  {
   "cell_type": "markdown",
   "metadata": {},
   "source": [
    "## 6. Discussion"
   ]
  },
  {
   "cell_type": "markdown",
   "metadata": {},
   "source": [
    "#### 6.1 TM195 Customer Profile"
   ]
  },
  {
   "cell_type": "markdown",
   "metadata": {},
   "source": [
    "- TM195 is the most popular model, contributing to 44.4% of sales\n",
    "- Partnered customers purchased this model more than single\n",
    "- Mean age is 28.55 (youngest but not by much), median is 26, has oldest customers at 50.\n",
    "- Mean years of education is 15, median is 16 (probably bachelor's degree)\n",
    "- Mean income is 46.4k, max no higher than 70k\n",
    "- Mean expected miles traveled is 83 miles a week\n",
    "- Normal fitness rating and usage"
   ]
  },
  {
   "cell_type": "markdown",
   "metadata": {},
   "source": [
    "#### 6.2 TM498 Customer Profile"
   ]
  },
  {
   "cell_type": "markdown",
   "metadata": {},
   "source": [
    "- TM498 is the second most sold model, contributing to 33.3% of sales\n",
    "- Mean age is just under 29, median is 26\n",
    "- Mean years of education is 15, median is 16 (probably bachelor's degree as well)\n",
    "- Mean income is 49k, max no higher than 70k\n",
    "- Mean expected miles traveled is 88 miles a week, lowest expected miles at 21. \n",
    "- Normal fitness rating and usage"
   ]
  },
  {
   "cell_type": "markdown",
   "metadata": {},
   "source": [
    "#### 6.3 TM798 Customer Profile"
   ]
  },
  {
   "cell_type": "markdown",
   "metadata": {},
   "source": [
    "- TM498 is the lowest most sold model, contributing to 22.2% of sales\n",
    "- More popular among males\n",
    "- Mean age is just over 29, median is 27, youngest customer is oldest by far (22 vs 19 and 18)\n",
    "- Mean years of education is 17, median is 18 (probably bachelor's and master's degree, some type of advanced degree)\n",
    "- Mean income is 75k, max is a bit over 100k\n",
    "- Mean expected miles traveled is 166 miles a week, lowest expected miles at 80. \n",
    "- Higher fitness and usage rating, 5 times per week, and fitness rating 4-5"
   ]
  },
  {
   "cell_type": "markdown",
   "metadata": {},
   "source": [
    "#### 6.4 Suggestions"
   ]
  },
  {
   "cell_type": "markdown",
   "metadata": {},
   "source": [
    "- Market TM195 and TM498 models as consumer friendly/budget and beginner treadmills\n",
    "- TM195 sales are lower in singles, find a way to tap into that market\n",
    "- TM798 is clearly favored by those who have high income, market it as a premium product\n",
    "- Find a way to boost TM798 sales, maybe with celebrity or athlete endorsement or sponsor athletic events\n",
    "- Majority of treadmill sales are purchased by adults under 40, find a way to market to older population (walking focus, recapture youth, indoor training)"
   ]
  },
  {
   "cell_type": "code",
   "execution_count": null,
   "metadata": {},
   "outputs": [],
   "source": []
  }
 ],
 "metadata": {
  "kernelspec": {
   "display_name": "Python 3",
   "language": "python",
   "name": "python3"
  },
  "language_info": {
   "codemirror_mode": {
    "name": "ipython",
    "version": 3
   },
   "file_extension": ".py",
   "mimetype": "text/x-python",
   "name": "python",
   "nbconvert_exporter": "python",
   "pygments_lexer": "ipython3",
   "version": "3.8.5"
  }
 },
 "nbformat": 4,
 "nbformat_minor": 4
}
